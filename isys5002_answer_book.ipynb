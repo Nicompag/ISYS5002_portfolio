{
  "nbformat": 4,
  "nbformat_minor": 0,
  "metadata": {
    "colab": {
      "name": "isys5002_answer_book.ipynb",
      "provenance": [],
      "include_colab_link": true
    },
    "kernelspec": {
      "name": "python3",
      "display_name": "Python 3"
    },
    "language_info": {
      "name": "python"
    }
  },
  "cells": [
    {
      "cell_type": "markdown",
      "metadata": {
        "id": "view-in-github",
        "colab_type": "text"
      },
      "source": [
        "<a href=\"https://colab.research.google.com/github/Nicompag/ISYS5002_portfolio/blob/main/isys5002_answer_book.ipynb\" target=\"_parent\"><img src=\"https://colab.research.google.com/assets/colab-badge.svg\" alt=\"Open In Colab\"/></a>"
      ]
    },
    {
      "cell_type": "markdown",
      "metadata": {
        "id": "Z0PClycD86Nw"
      },
      "source": [
        "### School of Management\n",
        "\n",
        "# EXTENDED LEARNING PORTFOLIO\n",
        "\n",
        "Semester 1 2021\n",
        "\n",
        "### ISYS5002 Introduction to Programming\n",
        "\n",
        "**This the notebook to be use to provide answers to the programming questions in the expented learning portfolio.**\n",
        "\n",
        "If you need to create additional notebooks, please cross reference the other notebook in thsi document."
      ]
    },
    {
      "cell_type": "markdown",
      "metadata": {
        "id": "W7pl-MaP64bv"
      },
      "source": [
        "**1.** DO NOT ANSWER HERE. Your answer to Question 1 is to be completed in a Word Document.\n",
        "\n",
        "\n",
        "\n",
        "\n",
        "\n",
        "\n",
        "**2.** A comment is an explanation or annotation in the source code of a computer program. Well commented functions are helpful to other programmers to understand the code better.  The following method has no comments.  Using the answer notebook, add some comments that explain the purpose and actions of the code in the following method"
      ]
    },
    {
      "cell_type": "code",
      "metadata": {
        "id": "BFkSRiFF6w_r"
      },
      "source": [
        "def get_int(): #defines a function we can use later in the program or export to other programs\n",
        "  while True: #a while loop will run the code in the loop again and again until it is forced to stop\n",
        "      try: #the loop tries the following code\n",
        "          x = int(input(\"Please enter a number: \")) #the variable x is equal the integer value of the input, the input will prompt the user to enter a number\n",
        "          break #if the code runs until here, the loop will stop and the code will run after the end of the loop\n",
        "      except ValueError: #if a ValueError occurs in the loop, i.e. wrong format of the input from the user, the program will print the message in the next line\n",
        "          print(\"That was no valid number.  Try again...\")\n",
        "  return x #the function will return the value of the variable x\n"
      ],
      "execution_count": null,
      "outputs": []
    },
    {
      "cell_type": "markdown",
      "metadata": {
        "id": "WGgC6VoH8nkK"
      },
      "source": [
        "**3.** In computer programming there are three kinds of errors: syntax errors, runtime errors, and logic errors. The code fragment below is meant to determines whether a person qualifies for a loan. To qualify for the loan, the person must earn a salary of at least $40,000 and must have been employed at his or her current job for at least 2 years.  The code fragment contains both syntax and logic errors. In the answer notebook Identify and correct at least five errors in the following code. "
      ]
    },
    {
      "cell_type": "code",
      "metadata": {
        "id": "R3fOBNAA8hJq"
      },
      "source": [
        "def qualify_for_loan(salary, years):\n",
        "  MINIMUM_SALARY = 40000.00 \n",
        "  MINIMUM_YEARS_ON_JOB = 2\n",
        "\n",
        "  if (salary >= MINIMUM_SALARY): \n",
        "    if (years >= MINIMUM_YEARS_ON_JOB): \n",
        "      print(\"You qualify for the loan.\") \n",
        "    else:\n",
        "      print(\"Minimum employment requirement not met\") \n",
        "  else:\n",
        "    print(\"Minimum salary requirement not met\")"
      ],
      "execution_count": 5,
      "outputs": []
    },
    {
      "cell_type": "code",
      "metadata": {
        "colab": {
          "base_uri": "https://localhost:8080/"
        },
        "id": "smGYvhT7USAN",
        "outputId": "7d13a35e-87de-43e6-892d-d0f4eb8dd6ae"
      },
      "source": [
        "qualify_for_loan(40000,10)"
      ],
      "execution_count": 9,
      "outputs": [
        {
          "output_type": "stream",
          "name": "stdout",
          "text": [
            "You qualify for the loan.\n"
          ]
        }
      ]
    },
    {
      "cell_type": "markdown",
      "metadata": {
        "id": "bGA6A_ZjACI-"
      },
      "source": [
        "**4.** Write a program that reads monthly rainfall data from the file rainfall.csv and prints out the maximum, minimum, and average rainfall as well as plot the rainfall for each month."
      ]
    },
    {
      "cell_type": "code",
      "metadata": {
        "id": "vm2ntannAFVT",
        "colab": {
          "base_uri": "https://localhost:8080/",
          "height": 774
        },
        "outputId": "093f0334-4c3a-4ad9-9dc2-099395766c54"
      },
      "source": [
        "import pandas as pd\n",
        "import matplotlib.pyplot as plt\n",
        "\n",
        "data = pd.read_csv('rainfall.csv')\n",
        "\n",
        "output = pd.DataFrame()\n",
        "\n",
        "output['Year'] = data['Year']\n",
        "output['Mean'] = data[['Jan', 'Feb', 'Mar', 'Apr', 'May', 'Jun', 'Jul', 'Aug', 'Sep', 'Oct', 'Nov', 'Dec']].mean(axis=1)\n",
        "output['Maximum'] = data[['Jan', 'Feb', 'Mar', 'Apr', 'May', 'Jun', 'Jul', 'Aug', 'Sep', 'Oct', 'Nov', 'Dec']].max(axis=1)\n",
        "output['Minimum'] = data[['Jan', 'Feb', 'Mar', 'Apr', 'May', 'Jun', 'Jul', 'Aug', 'Sep', 'Oct', 'Nov', 'Dec']].min(axis=1)\n",
        "\n",
        "print(output)\n",
        "\n",
        "plt.plot(output['Year'], output['Mean'])\n",
        "plt.ylabel('Average rainfall')\n",
        "plt.title('Rainfall in selected years')\n",
        "plt.show()"
      ],
      "execution_count": 32,
      "outputs": [
        {
          "output_type": "stream",
          "name": "stdout",
          "text": [
            "    Year       Mean  Maximum  Minimum\n",
            "0   1993  61.570000    158.4      2.4\n",
            "1   1994  61.650000    203.4      0.0\n",
            "2   1995  75.400000    278.6      0.0\n",
            "3   1996  74.050000    221.4      0.0\n",
            "4   1997  58.283333    137.6      0.0\n",
            "5   1998  61.883333    153.2      0.0\n",
            "6   1999  68.500000    167.4      0.0\n",
            "7   2000  66.350000    231.0      0.0\n",
            "8   2001  57.383333    182.6      2.4\n",
            "9   2002  61.483333    183.8      2.6\n",
            "10  2003  71.133333    173.4      1.4\n",
            "11  2004  53.083333    175.6      0.0\n",
            "12  2005  72.900000    251.0      0.0\n",
            "13  2006  38.900000    124.8      4.6\n",
            "14  2007  58.583333    179.4      3.4\n",
            "15  2008  67.316667    179.4      0.0\n",
            "16  2009  50.600000    156.2      0.0\n",
            "17  2010  41.983333    142.0      0.0\n",
            "18  2011  71.733333    171.4      0.0\n",
            "19  2012  50.683333    140.8      0.2\n",
            "20  2013  65.200000    167.4      0.8\n",
            "21  2014  56.200000    152.6      0.0\n",
            "22  2015  51.483333    113.0     13.6\n",
            "23  2016  59.650000    139.6      0.6\n",
            "24  2017  71.166667    172.6      0.0\n",
            "25  2018  61.800000    186.0      0.2\n",
            "26  2019  46.866667    212.0      0.0\n",
            "27  2020  56.116667    115.4      3.0\n"
          ]
        },
        {
          "output_type": "display_data",
          "data": {
            "image/png": "[encoded data removed]",
            "text/plain": [
              "<Figure size 432x288 with 1 Axes>"
            ]
          },
          "metadata": {
            "needs_background": "light"
          }
        }
      ]
    },
    {
      "cell_type": "markdown",
      "metadata": {
        "id": "1A424xz4AQnb"
      },
      "source": [
        "**5.** DO NOT ANSWER HERE. Yout answer to Question 5 is to be completed in a Word Document."
      ]
    },
    {
      "cell_type": "code",
      "metadata": {
        "id": "TqUhFmzuAbhE"
      },
      "source": [
        ""
      ],
      "execution_count": null,
      "outputs": []
    }
  ]
}