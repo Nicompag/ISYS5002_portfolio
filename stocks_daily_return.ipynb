{
  "nbformat": 4,
  "nbformat_minor": 5,
  "metadata": {
    "kernelspec": {
      "display_name": "Python 3 (ipykernel)",
      "language": "python",
      "name": "python3"
    },
    "language_info": {
      "codemirror_mode": {
        "name": "ipython",
        "version": 3
      },
      "file_extension": ".py",
      "mimetype": "text/x-python",
      "name": "python",
      "nbconvert_exporter": "python",
      "pygments_lexer": "ipython3",
      "version": "3.9.6"
    },
    "colab": {
      "name": "stocks_daily_return.ipynb",
      "provenance": [],
      "include_colab_link": true
    }
  },
  "cells": [
    {
      "cell_type": "markdown",
      "metadata": {
        "id": "view-in-github",
        "colab_type": "text"
      },
      "source": [
        "<a href=\"https://colab.research.google.com/github/Nicompag/ISYS5002_portfolio/blob/main/stocks_daily_return.ipynb\" target=\"_parent\"><img src=\"https://colab.research.google.com/assets/colab-badge.svg\" alt=\"Open In Colab\"/></a>"
      ]
    },
    {
      "cell_type": "markdown",
      "metadata": {
        "id": "b5ae41e0"
      },
      "source": [
        "# Stock Data\n",
        "\n",
        "* Read CSV file\n",
        "* Use CSV module\n",
        "* Use Pandas\n",
        "  * CSV\n",
        "  * Excel"
      ],
      "id": "b5ae41e0"
    },
    {
      "cell_type": "code",
      "metadata": {
        "colab": {
          "base_uri": "https://localhost:8080/"
        },
        "id": "1e11a5be",
        "outputId": "d5142f40-c7b5-40a1-9fdd-736da4a8c1b8"
      },
      "source": [
        "filename = '/content/GOOG.csv'\n",
        "\n",
        "lines = []\n",
        "with open(filename) as f:\n",
        "  for the_line in f:\n",
        "    lines.append(the_line)\n",
        "print(lines[0])\n",
        "print(lines[1])\n"
      ],
      "id": "1e11a5be",
      "execution_count": null,
      "outputs": [
        {
          "output_type": "stream",
          "text": [
            "Date,Open,High,Low,Close,Adj Close,Volume\n",
            "\n",
            "2004-08-19,49.813290,51.835709,47.800831,49.982655,49.982655,44871361\n",
            "\n"
          ],
          "name": "stdout"
        }
      ]
    },
    {
      "cell_type": "code",
      "metadata": {
        "colab": {
          "base_uri": "https://localhost:8080/"
        },
        "id": "2TT1y90PgUbF",
        "outputId": "5f04256d-fc2d-48e1-8224-9cfc63213b81"
      },
      "source": [
        "row = lines[1].split(\",\")\n",
        "print(row)"
      ],
      "id": "2TT1y90PgUbF",
      "execution_count": null,
      "outputs": [
        {
          "output_type": "stream",
          "text": [
            "['2004-08-19', '49.813290', '51.835709', '47.800831', '49.982655', '49.982655', '44871361\\n']\n"
          ],
          "name": "stdout"
        }
      ]
    },
    {
      "cell_type": "markdown",
      "metadata": {
        "id": "e63f358d"
      },
      "source": [
        "## Read CSV file"
      ],
      "id": "e63f358d"
    },
    {
      "cell_type": "code",
      "metadata": {
        "id": "425280cb"
      },
      "source": [
        "import csv"
      ],
      "id": "425280cb",
      "execution_count": null,
      "outputs": []
    },
    {
      "cell_type": "code",
      "metadata": {
        "colab": {
          "base_uri": "https://localhost:8080/"
        },
        "id": "QFuZETSSg6M2",
        "outputId": "92bb67bc-800e-4a4f-89ff-58d3fde7e10a"
      },
      "source": [
        "file = open(filename, newline=\"\")\n",
        "reader = csv.reader(file)\n",
        "\n",
        "header = next(reader) # read the column names\n",
        "\n",
        "data = []\n",
        "for row in reader:\n",
        "  # a row is [Date, Open, High, Low, Close, Adj Close, Volume]\n",
        "  date = row[0]\n",
        "  open_price = float(row[1])\n",
        "  high = float(row[2])\n",
        "  low = float(row[3])\n",
        "  # etc ....\n",
        "  data.append([date, open_price, high, low])\n",
        "\n",
        "print(data[0])"
      ],
      "id": "QFuZETSSg6M2",
      "execution_count": null,
      "outputs": [
        {
          "output_type": "stream",
          "text": [
            "['2004-08-19', 49.81329, 51.835709, 47.800831]\n"
          ],
          "name": "stdout"
        }
      ]
    },
    {
      "cell_type": "markdown",
      "metadata": {
        "id": "6d1de788"
      },
      "source": [
        "## Module: CSV"
      ],
      "id": "6d1de788"
    },
    {
      "cell_type": "code",
      "metadata": {
        "id": "q59--6ohg5k0"
      },
      "source": [
        ""
      ],
      "id": "q59--6ohg5k0",
      "execution_count": null,
      "outputs": []
    },
    {
      "cell_type": "code",
      "metadata": {
        "id": "17d5e7e0"
      },
      "source": [
        ""
      ],
      "id": "17d5e7e0",
      "execution_count": null,
      "outputs": []
    },
    {
      "cell_type": "markdown",
      "metadata": {
        "id": "1af66a5b"
      },
      "source": [
        "## Module: Pandas"
      ],
      "id": "1af66a5b"
    },
    {
      "cell_type": "code",
      "metadata": {
        "id": "494f6466"
      },
      "source": [
        "import pandas as pd"
      ],
      "id": "494f6466",
      "execution_count": null,
      "outputs": []
    },
    {
      "cell_type": "code",
      "metadata": {
        "colab": {
          "base_uri": "https://localhost:8080/",
          "height": 204
        },
        "id": "Q-Bgnxrjiz9z",
        "outputId": "f4941711-671c-4f46-ca3f-5962ecf80f83"
      },
      "source": [
        "data = pd.read_csv(filename)\n",
        "data.head()"
      ],
      "id": "Q-Bgnxrjiz9z",
      "execution_count": null,
      "outputs": [
        {
          "output_type": "execute_result",
          "data": {
            "text/html": [
              "<div>\n",
              "<style scoped>\n",
              "    .dataframe tbody tr th:only-of-type {\n",
              "        vertical-align: middle;\n",
              "    }\n",
              "\n",
              "    .dataframe tbody tr th {\n",
              "        vertical-align: top;\n",
              "    }\n",
              "\n",
              "    .dataframe thead th {\n",
              "        text-align: right;\n",
              "    }\n",
              "</style>\n",
              "<table border=\"1\" class=\"dataframe\">\n",
              "  <thead>\n",
              "    <tr style=\"text-align: right;\">\n",
              "      <th></th>\n",
              "      <th>Date</th>\n",
              "      <th>Open</th>\n",
              "      <th>High</th>\n",
              "      <th>Low</th>\n",
              "      <th>Close</th>\n",
              "      <th>Adj Close</th>\n",
              "      <th>Volume</th>\n",
              "    </tr>\n",
              "  </thead>\n",
              "  <tbody>\n",
              "    <tr>\n",
              "      <th>0</th>\n",
              "      <td>2004-08-19</td>\n",
              "      <td>49.813290</td>\n",
              "      <td>51.835709</td>\n",
              "      <td>47.800831</td>\n",
              "      <td>49.982655</td>\n",
              "      <td>49.982655</td>\n",
              "      <td>44871361</td>\n",
              "    </tr>\n",
              "    <tr>\n",
              "      <th>1</th>\n",
              "      <td>2004-08-20</td>\n",
              "      <td>50.316402</td>\n",
              "      <td>54.336334</td>\n",
              "      <td>50.062355</td>\n",
              "      <td>53.952770</td>\n",
              "      <td>53.952770</td>\n",
              "      <td>22942874</td>\n",
              "    </tr>\n",
              "    <tr>\n",
              "      <th>2</th>\n",
              "      <td>2004-08-23</td>\n",
              "      <td>55.168217</td>\n",
              "      <td>56.528118</td>\n",
              "      <td>54.321388</td>\n",
              "      <td>54.495735</td>\n",
              "      <td>54.495735</td>\n",
              "      <td>18342897</td>\n",
              "    </tr>\n",
              "    <tr>\n",
              "      <th>3</th>\n",
              "      <td>2004-08-24</td>\n",
              "      <td>55.412300</td>\n",
              "      <td>55.591629</td>\n",
              "      <td>51.591621</td>\n",
              "      <td>52.239197</td>\n",
              "      <td>52.239197</td>\n",
              "      <td>15319808</td>\n",
              "    </tr>\n",
              "    <tr>\n",
              "      <th>4</th>\n",
              "      <td>2004-08-25</td>\n",
              "      <td>52.284027</td>\n",
              "      <td>53.798351</td>\n",
              "      <td>51.746044</td>\n",
              "      <td>52.802086</td>\n",
              "      <td>52.802086</td>\n",
              "      <td>9232276</td>\n",
              "    </tr>\n",
              "  </tbody>\n",
              "</table>\n",
              "</div>"
            ],
            "text/plain": [
              "         Date       Open       High        Low      Close  Adj Close    Volume\n",
              "0  2004-08-19  49.813290  51.835709  47.800831  49.982655  49.982655  44871361\n",
              "1  2004-08-20  50.316402  54.336334  50.062355  53.952770  53.952770  22942874\n",
              "2  2004-08-23  55.168217  56.528118  54.321388  54.495735  54.495735  18342897\n",
              "3  2004-08-24  55.412300  55.591629  51.591621  52.239197  52.239197  15319808\n",
              "4  2004-08-25  52.284027  53.798351  51.746044  52.802086  52.802086   9232276"
            ]
          },
          "metadata": {},
          "execution_count": 19
        }
      ]
    },
    {
      "cell_type": "code",
      "metadata": {
        "colab": {
          "base_uri": "https://localhost:8080/"
        },
        "id": "KGpzCstNksrW",
        "outputId": "ba9c39af-17a7-4a5b-9fc6-893c711b1890"
      },
      "source": [
        "data.info()"
      ],
      "id": "KGpzCstNksrW",
      "execution_count": null,
      "outputs": [
        {
          "output_type": "stream",
          "text": [
            "<class 'pandas.core.frame.DataFrame'>\n",
            "RangeIndex: 4285 entries, 0 to 4284\n",
            "Data columns (total 7 columns):\n",
            " #   Column     Non-Null Count  Dtype  \n",
            "---  ------     --------------  -----  \n",
            " 0   Date       4285 non-null   object \n",
            " 1   Open       4285 non-null   float64\n",
            " 2   High       4285 non-null   float64\n",
            " 3   Low        4285 non-null   float64\n",
            " 4   Close      4285 non-null   float64\n",
            " 5   Adj Close  4285 non-null   float64\n",
            " 6   Volume     4285 non-null   int64  \n",
            "dtypes: float64(5), int64(1), object(1)\n",
            "memory usage: 234.5+ KB\n"
          ],
          "name": "stdout"
        }
      ]
    },
    {
      "cell_type": "code",
      "metadata": {
        "id": "Nu6BDb9Ji0-E"
      },
      "source": [
        "import matplotlib.pyplot as plt  "
      ],
      "id": "Nu6BDb9Ji0-E",
      "execution_count": null,
      "outputs": []
    },
    {
      "cell_type": "code",
      "metadata": {
        "colab": {
          "base_uri": "https://localhost:8080/",
          "height": 312
        },
        "id": "NhiqsfF2lZWw",
        "outputId": "dc233db5-2701-4ba2-cf50-5b10971e29ec"
      },
      "source": [
        "data['Adj Close'].plot()\n",
        "plt.xlabel('Date')\n",
        "plt.ylabel('Adj Close')\n",
        "plt.title('Gloogle Price Data')"
      ],
      "id": "NhiqsfF2lZWw",
      "execution_count": null,
      "outputs": [
        {
          "output_type": "execute_result",
          "data": {
            "text/plain": [
              "Text(0.5, 1.0, 'Gloogle Price Data')"
            ]
          },
          "metadata": {},
          "execution_count": 23
        },
        {
          "output_type": "display_data",
          "data": {
            "image/png": "[encoded data removed]",
            "text/plain": [
              "<Figure size 432x288 with 1 Axes>"
            ]
          },
          "metadata": {
            "needs_background": "light"
          }
        }
      ]
    },
    {
      "cell_type": "code",
      "metadata": {
        "id": "iyF7JBlhle3m"
      },
      "source": [
        ""
      ],
      "id": "iyF7JBlhle3m",
      "execution_count": null,
      "outputs": []
    }
  ]
}