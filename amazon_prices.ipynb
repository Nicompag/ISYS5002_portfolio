{
  "nbformat": 4,
  "nbformat_minor": 0,
  "metadata": {
    "colab": {
      "name": "amazon_prices.ipynb",
      "provenance": [],
      "include_colab_link": true
    },
    "kernelspec": {
      "name": "python3",
      "display_name": "Python 3"
    },
    "language_info": {
      "name": "python"
    }
  },
  "cells": [
    {
      "cell_type": "markdown",
      "metadata": {
        "id": "view-in-github",
        "colab_type": "text"
      },
      "source": [
        "<a href=\"https://colab.research.google.com/github/Nicompag/ISYS5002_portfolio/blob/main/amazon_prices.ipynb\" target=\"_parent\"><img src=\"https://colab.research.google.com/assets/colab-badge.svg\" alt=\"Open In Colab\"/></a>"
      ]
    },
    {
      "cell_type": "code",
      "metadata": {
        "id": "nAphLm9Vlzo5"
      },
      "source": [
        "!pip install kora -q\n",
        "'''load packages'''\n",
        "import requests\n",
        "from bs4 import BeautifulSoup\n",
        "from kora.selenium import wd\n",
        "import pandas as pd"
      ],
      "execution_count": null,
      "outputs": []
    },
    {
      "cell_type": "code",
      "metadata": {
        "id": "Jyp2DYzImzk-"
      },
      "source": [
        "# Establish Session\n",
        "url = 'https://www.amazon.com.au'\n",
        "wd.get(url)"
      ],
      "execution_count": null,
      "outputs": []
    },
    {
      "cell_type": "code",
      "metadata": {
        "id": "DCZLhnslm9Nm"
      },
      "source": [
        "# Work out URL pattern\n",
        "template = 'https://www.amazon.com.au/s?k={}&ref=nb_sb_noss_2'\n",
        "\n",
        "search_term = 'ultrawide monitor'\n",
        "search_term = search_term.replace(' ', '+')\n",
        "\n",
        "url = template.format(search_term)\n",
        "wd.get(url)"
      ],
      "execution_count": null,
      "outputs": []
    },
    {
      "cell_type": "code",
      "metadata": {
        "id": "AQz3cNSMnA-E"
      },
      "source": [
        " def get_url(search_term):\n",
        "  template = 'https://www.amazon.com.au/s?k={}&ref=nb_sb_noss_2'\n",
        "  \n",
        "  search_term = search_term.replace(' ', '+')\n",
        "  url = template.format(search_term)\n",
        "\n",
        "  return url"
      ],
      "execution_count": null,
      "outputs": []
    },
    {
      "cell_type": "code",
      "metadata": {
        "id": "MT7rDgkAn2u9"
      },
      "source": [
        "#search_term = input(\"What do you want to search for? \")\n",
        "\n",
        "search_term = 'ultrawide monitor'\n",
        "url = get_url(search_term)\n",
        "wd.get(url)"
      ],
      "execution_count": null,
      "outputs": []
    },
    {
      "cell_type": "code",
      "metadata": {
        "id": "IFVLuMHtoBep"
      },
      "source": [
        "soup = BeautifulSoup(wd.page_source, 'html.parser')\n"
      ],
      "execution_count": null,
      "outputs": []
    },
    {
      "cell_type": "markdown",
      "metadata": {
        "id": "h4ee8kjVoYB3"
      },
      "source": [
        "# Extract the Collection"
      ]
    },
    {
      "cell_type": "code",
      "metadata": {
        "id": "9FVKD7tYoaWi"
      },
      "source": [
        "results = soup.find_all('div', {'data-component-type': 's-search-result'})\n",
        "results[0].h2.a.text"
      ],
      "execution_count": null,
      "outputs": []
    },
    {
      "cell_type": "code",
      "metadata": {
        "id": "anR8Mto_olFI"
      },
      "source": [
        "def extract_description(item):\n",
        "  description = item.h2.a.text\n",
        "  return description"
      ],
      "execution_count": null,
      "outputs": []
    },
    {
      "cell_type": "code",
      "metadata": {
        "id": "7SbZ48oPsNFk"
      },
      "source": [
        "extract_description(results[12])"
      ],
      "execution_count": null,
      "outputs": []
    },
    {
      "cell_type": "markdown",
      "metadata": {
        "id": "1XWF5LHBsjlJ"
      },
      "source": [
        "# Prototype the record"
      ]
    },
    {
      "cell_type": "code",
      "metadata": {
        "id": "cC0bk72XsQ-V"
      },
      "source": [
        "item = results[0]\n",
        "price_parent = item.find('span', 'a-price')\n",
        "price = price_parent.find('span', 'a-offscreen')\n",
        "price.text"
      ],
      "execution_count": null,
      "outputs": []
    },
    {
      "cell_type": "code",
      "metadata": {
        "id": "jESVEqVVsyuA"
      },
      "source": [
        "def extract_price(item):\n",
        "  try:\n",
        "    price_parent = item.find('span', 'a-price')\n",
        "    price = price_parent.find('span', 'a-offscreen')\n",
        "    price = price.text\n",
        "  except AttributeError:\n",
        "    price = ''\n",
        "  return price"
      ],
      "execution_count": null,
      "outputs": []
    },
    {
      "cell_type": "code",
      "metadata": {
        "id": "iO16HydCs3zv"
      },
      "source": [
        "extract_price(results[0])"
      ],
      "execution_count": null,
      "outputs": []
    },
    {
      "cell_type": "code",
      "metadata": {
        "id": "64GHbNF8s734"
      },
      "source": [
        "def extract_record(item):\n",
        "  return {\n",
        "      'description': extract_description(item),\n",
        "      'price': extract_price(item)\n",
        "  }"
      ],
      "execution_count": null,
      "outputs": []
    },
    {
      "cell_type": "code",
      "metadata": {
        "id": "fBB-xo7HtIsm"
      },
      "source": [
        "extract_record(results[0])"
      ],
      "execution_count": null,
      "outputs": []
    },
    {
      "cell_type": "code",
      "metadata": {
        "id": "4QZ_hBYRtxny"
      },
      "source": [
        "for r in results:\n",
        "  print(extract_record(r))"
      ],
      "execution_count": null,
      "outputs": []
    },
    {
      "cell_type": "code",
      "metadata": {
        "id": "LhWHC-W7t3mH"
      },
      "source": [
        "records = []\n",
        "for r in results:\n",
        "  records.append(extract_record(r))\n",
        "\n",
        "records[0]"
      ],
      "execution_count": null,
      "outputs": []
    },
    {
      "cell_type": "code",
      "metadata": {
        "id": "BfmPYjmRuMwU"
      },
      "source": [
        "\n",
        "df = pd.DataFrame.from_records(records)\n",
        "df.head()"
      ],
      "execution_count": null,
      "outputs": []
    },
    {
      "cell_type": "markdown",
      "metadata": {
        "id": "bQK8lneQvDxO"
      },
      "source": [
        "# Generalize the pattern"
      ]
    },
    {
      "cell_type": "code",
      "metadata": {
        "id": "gF3DcIRRvHnP"
      },
      "source": [
        ""
      ],
      "execution_count": null,
      "outputs": []
    },
    {
      "cell_type": "code",
      "metadata": {
        "id": "QqKbxj1kwcYc"
      },
      "source": [
        "records = []\n",
        "results = soup.find_all('div', {'data-component-type': 's-search-result'})\n",
        "\n",
        "for item in results:\n",
        "  records.append(extract_record(item))"
      ],
      "execution_count": null,
      "outputs": []
    },
    {
      "cell_type": "markdown",
      "metadata": {
        "id": "_ZRk5fnhxeRZ"
      },
      "source": [
        "# Error Handling"
      ]
    },
    {
      "cell_type": "code",
      "metadata": {
        "id": "vkIT_BNUxFvl"
      },
      "source": [
        "\n"
      ],
      "execution_count": null,
      "outputs": []
    },
    {
      "cell_type": "code",
      "metadata": {
        "id": "pYKIDlY0x64Y"
      },
      "source": [
        ""
      ],
      "execution_count": null,
      "outputs": []
    },
    {
      "cell_type": "code",
      "metadata": {
        "id": "phNc9nIpyImi"
      },
      "source": [
        ""
      ],
      "execution_count": null,
      "outputs": []
    },
    {
      "cell_type": "markdown",
      "metadata": {
        "id": "TGU8ZMgxyaWt"
      },
      "source": [
        "# Find next page"
      ]
    },
    {
      "cell_type": "code",
      "metadata": {
        "id": "7JzOCBBRyd5B"
      },
      "source": [
        ""
      ],
      "execution_count": null,
      "outputs": []
    },
    {
      "cell_type": "markdown",
      "metadata": {
        "id": "FanXzdQm2SHO"
      },
      "source": [
        "# Putting it all together"
      ]
    },
    {
      "cell_type": "code",
      "metadata": {
        "id": "sP0evzCj2O2d"
      },
      "source": [
        "!pip install kora -q\n",
        "'''load packages'''\n",
        "import requests\n",
        "from bs4 import BeautifulSoup\n",
        "from kora.selenium import wd\n",
        "import pandas as pd\n",
        "\n",
        "def get_url(search_term):\n",
        " template = 'https://www.amazon.com.au/s?k={}&ref=nb_sb_noss_2'\n",
        "  \n",
        " search_term = search_term.replace(' ', '+')\n",
        " url = template.format(search_term)\n",
        "\n",
        " return url\n",
        "\n",
        "def extract_description(item):\n",
        "  description = item.h2.a.text\n",
        "  return description\n",
        "\n",
        "def extract_price(item):\n",
        "  try:\n",
        "    price_parent = item.find('span', 'a-price')\n",
        "    price = price_parent.find('span', 'a-offscreen')\n",
        "    price = price.text\n",
        "  except AttributeError:\n",
        "    price = ''\n",
        "  return price\n",
        "\n",
        "def extract_record(item):\n",
        "  return {\n",
        "      'description': extract_description(item),\n",
        "      'price': extract_price(item)\n",
        "  }"
      ],
      "execution_count": 45,
      "outputs": []
    },
    {
      "cell_type": "code",
      "metadata": {
        "id": "SmzW9RwEASoq",
        "outputId": "fd745fc0-c6f2-44fc-ff1b-36c824ac100b",
        "colab": {
          "base_uri": "https://localhost:8080/",
          "height": 221
        }
      },
      "source": [
        "search_term = input('What do you want to search for? ')\n",
        "url = get_url(search_term)\n",
        "wd.get(url)\n",
        "soup = BeautifulSoup(wd.page_source, 'html.parser')\n",
        "records = []\n",
        "results = soup.find_all('div', {'data-component-type': 's-search-result'})\n",
        "\n",
        "for r in results:\n",
        "  records.append(extract_record(r))\n",
        "\n",
        "df = pd.DataFrame.from_records(records)\n",
        "df.head()"
      ],
      "execution_count": 48,
      "outputs": [
        {
          "name": "stdout",
          "output_type": "stream",
          "text": [
            "What do you want to search for? iPhone 13\n"
          ]
        },
        {
          "output_type": "execute_result",
          "data": {
            "text/html": [
              "<div>\n",
              "<style scoped>\n",
              "    .dataframe tbody tr th:only-of-type {\n",
              "        vertical-align: middle;\n",
              "    }\n",
              "\n",
              "    .dataframe tbody tr th {\n",
              "        vertical-align: top;\n",
              "    }\n",
              "\n",
              "    .dataframe thead th {\n",
              "        text-align: right;\n",
              "    }\n",
              "</style>\n",
              "<table border=\"1\" class=\"dataframe\">\n",
              "  <thead>\n",
              "    <tr style=\"text-align: right;\">\n",
              "      <th></th>\n",
              "      <th>description</th>\n",
              "      <th>price</th>\n",
              "    </tr>\n",
              "  </thead>\n",
              "  <tbody>\n",
              "    <tr>\n",
              "      <th>0</th>\n",
              "      <td>T Tersely Tempered Glass Screen Protector for ...</td>\n",
              "      <td></td>\n",
              "    </tr>\n",
              "    <tr>\n",
              "      <th>1</th>\n",
              "      <td>elago Liquid Silicone Case Compatible with iPh...</td>\n",
              "      <td>$29.12</td>\n",
              "    </tr>\n",
              "    <tr>\n",
              "      <th>2</th>\n",
              "      <td>elago Liquid Silicone Case Compatible with iPh...</td>\n",
              "      <td>$26.23</td>\n",
              "    </tr>\n",
              "    <tr>\n",
              "      <th>3</th>\n",
              "      <td>elago Liquid Silicone Case Compatible with iPh...</td>\n",
              "      <td>$25.61</td>\n",
              "    </tr>\n",
              "    <tr>\n",
              "      <th>4</th>\n",
              "      <td>amFilm 2 Pack OneTouch Glass Screen Protector ...</td>\n",
              "      <td>$22.36</td>\n",
              "    </tr>\n",
              "  </tbody>\n",
              "</table>\n",
              "</div>"
            ],
            "text/plain": [
              "                                         description   price\n",
              "0  T Tersely Tempered Glass Screen Protector for ...        \n",
              "1  elago Liquid Silicone Case Compatible with iPh...  $29.12\n",
              "2  elago Liquid Silicone Case Compatible with iPh...  $26.23\n",
              "3  elago Liquid Silicone Case Compatible with iPh...  $25.61\n",
              "4  amFilm 2 Pack OneTouch Glass Screen Protector ...  $22.36"
            ]
          },
          "metadata": {},
          "execution_count": 48
        }
      ]
    },
    {
      "cell_type": "code",
      "metadata": {
        "id": "BF-zepIwAetK"
      },
      "source": [
        ""
      ],
      "execution_count": null,
      "outputs": []
    },
    {
      "cell_type": "code",
      "metadata": {
        "id": "sOFfhTFDDpto"
      },
      "source": [
        ""
      ],
      "execution_count": null,
      "outputs": []
    }
  ]
}