{
  "nbformat": 4,
  "nbformat_minor": 5,
  "metadata": {
    "kernelspec": {
      "display_name": "Python 3 (ipykernel)",
      "language": "python",
      "name": "python3"
    },
    "language_info": {
      "codemirror_mode": {
        "name": "ipython",
        "version": 3
      },
      "file_extension": ".py",
      "mimetype": "text/x-python",
      "name": "python",
      "nbconvert_exporter": "python",
      "pygments_lexer": "ipython3",
      "version": "3.9.6"
    },
    "colab": {
      "name": "Business_Buzzword Generator.ipynb",
      "provenance": [],
      "include_colab_link": true
    },
    "widgets": {
      "application/vnd.jupyter.widget-state+json": {
        "faf801bd20d34b9bb776748f6744c46a": {
          "model_module": "@jupyter-widgets/controls",
          "model_name": "ButtonModel",
          "model_module_version": "1.5.0",
          "state": {
            "_view_name": "ButtonView",
            "style": "IPY_MODEL_482e9416b3434370808c870242945221",
            "_dom_classes": [],
            "description": "Generate Buzzword",
            "_model_name": "ButtonModel",
            "button_style": "",
            "_view_module": "@jupyter-widgets/controls",
            "_model_module_version": "1.5.0",
            "tooltip": "",
            "_view_count": null,
            "disabled": false,
            "_view_module_version": "1.5.0",
            "layout": "IPY_MODEL_1a7b2f1b232441d1838a27e534b13d57",
            "_model_module": "@jupyter-widgets/controls",
            "icon": ""
          }
        },
        "482e9416b3434370808c870242945221": {
          "model_module": "@jupyter-widgets/controls",
          "model_name": "ButtonStyleModel",
          "model_module_version": "1.5.0",
          "state": {
            "_view_name": "StyleView",
            "_model_name": "ButtonStyleModel",
            "_view_module": "@jupyter-widgets/base",
            "_model_module_version": "1.5.0",
            "_view_count": null,
            "button_color": null,
            "font_weight": "",
            "_view_module_version": "1.2.0",
            "_model_module": "@jupyter-widgets/controls"
          }
        },
        "1a7b2f1b232441d1838a27e534b13d57": {
          "model_module": "@jupyter-widgets/base",
          "model_name": "LayoutModel",
          "model_module_version": "1.2.0",
          "state": {
            "_view_name": "LayoutView",
            "grid_template_rows": null,
            "right": null,
            "justify_content": null,
            "_view_module": "@jupyter-widgets/base",
            "overflow": null,
            "_model_module_version": "1.2.0",
            "_view_count": null,
            "flex_flow": null,
            "width": null,
            "min_width": null,
            "border": null,
            "align_items": null,
            "bottom": null,
            "_model_module": "@jupyter-widgets/base",
            "top": null,
            "grid_column": null,
            "overflow_y": null,
            "overflow_x": null,
            "grid_auto_flow": null,
            "grid_area": null,
            "grid_template_columns": null,
            "flex": null,
            "_model_name": "LayoutModel",
            "justify_items": null,
            "grid_row": null,
            "max_height": null,
            "align_content": null,
            "visibility": null,
            "align_self": null,
            "height": null,
            "min_height": null,
            "padding": null,
            "grid_auto_rows": null,
            "grid_gap": null,
            "max_width": null,
            "order": null,
            "_view_module_version": "1.2.0",
            "grid_template_areas": null,
            "object_position": null,
            "object_fit": null,
            "grid_auto_columns": null,
            "margin": null,
            "display": null,
            "left": null
          }
        }
      }
    }
  },
  "cells": [
    {
      "cell_type": "markdown",
      "metadata": {
        "id": "view-in-github",
        "colab_type": "text"
      },
      "source": [
        "<a href=\"https://colab.research.google.com/github/Nicompag/ISYS5002_portfolio/blob/main/Business_Buzzword_Generator.ipynb\" target=\"_parent\"><img src=\"https://colab.research.google.com/assets/colab-badge.svg\" alt=\"Open In Colab\"/></a>"
      ]
    },
    {
      "cell_type": "markdown",
      "metadata": {
        "id": "f8b21259-c1a0-4ecb-a02f-e35565841067"
      },
      "source": [
        "# Business Buzzword Generator\n",
        "\n",
        "Lets write a real-world business application using Python.   Want to write a program to genrate business phrases.  The program takes three lists of words, randomly picks one word from each list, combines the words into a phrase, and then prints out the phrase. Here is the psuedocode:\n",
        "\n",
        "    importing the random module\n",
        "    make three lists, one of buzzword, one of actions, and one of outcomes\n",
        "    randomly choose one buzzword, action, and outcome from each list\n",
        "    now build the phrase by \"adding\" the words together\n",
        "    output the phrase\n",
        "    \n",
        "A good use of pseudocode is each line becomes comments in the code. Each line of pseudo code has been pasted into a cell below.  Try to implement each as python statement or statements."
      ],
      "id": "f8b21259-c1a0-4ecb-a02f-e35565841067"
    },
    {
      "cell_type": "code",
      "metadata": {
        "id": "52db4e24-c2e3-46f2-8a96-0fece1f437f2",
        "outputId": "c4958b11-3d3d-4dfe-8caa-4b01e99bdadf",
        "colab": {
          "base_uri": "https://localhost:8080/",
          "height": 134,
          "referenced_widgets": [
            "faf801bd20d34b9bb776748f6744c46a",
            "482e9416b3434370808c870242945221",
            "1a7b2f1b232441d1838a27e534b13d57"
          ]
        }
      },
      "source": [
        "# importing the random module\n",
        "import random\n",
        "import ipywidgets as widget\n",
        "\n",
        "def generate_phrase(button):\n",
        "  #  make three lists, one of buzzwords, one of actions, and one of outcomes\n",
        "  verbs = ['e-enable', 'empower', 'enable', 'engage', 'engineer']\n",
        "  adjectives = ['bricks-and-clicks', 'business', 'clicks-and-mortar', 'client-based', 'client-centered']\n",
        "  nouns = ['results', 'ROI', 'scenarios', 'schemas', 'scrums']\n",
        "  \n",
        "  # randomly choose one buzzword, action, and outcome from each list\n",
        "  verb = random.choice(verbs)\n",
        "  adjective = random.choice(adjectives)\n",
        "  noun = random.choice(nouns)\n",
        "  \n",
        "  # build the phrase by \"adding\" the words together\n",
        "  phrase = verb + ' ' + adjective + ' ' + noun\n",
        "  \n",
        "  # output the phrase\n",
        "  print(phrase)\n",
        "\n",
        "#Create the widget(s)\n",
        "generate_button = widget.Button(description = \"Generate Buzzword\")\n",
        "\n",
        "#Generate a function to perform the action! - See above.\n",
        "\n",
        "#Link the button to the action (callback)\n",
        "generate_button.on_click(generate_phrase)\n",
        "\n",
        "# Display/Layout the widget\n",
        "generate_button"
      ],
      "id": "52db4e24-c2e3-46f2-8a96-0fece1f437f2",
      "execution_count": 14,
      "outputs": [
        {
          "output_type": "display_data",
          "data": {
            "application/vnd.jupyter.widget-view+json": {
              "model_id": "faf801bd20d34b9bb776748f6744c46a",
              "version_minor": 0,
              "version_major": 2
            },
            "text/plain": [
              "Button(description='Generate Buzzword', style=ButtonStyle())"
            ]
          },
          "metadata": {}
        },
        {
          "output_type": "stream",
          "name": "stdout",
          "text": [
            "e-enable client-centered scrums\n",
            "engineer bricks-and-clicks schemas\n",
            "empower bricks-and-clicks scenarios\n",
            "empower bricks-and-clicks scenarios\n",
            "engineer business results\n"
          ]
        }
      ]
    },
    {
      "cell_type": "code",
      "metadata": {
        "id": "zEKeH6ZPfnre"
      },
      "source": [
        ""
      ],
      "id": "zEKeH6ZPfnre",
      "execution_count": null,
      "outputs": []
    }
  ]
}