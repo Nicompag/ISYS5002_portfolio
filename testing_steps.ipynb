{
  "nbformat": 4,
  "nbformat_minor": 0,
  "metadata": {
    "colab": {
      "name": "testing_steps.ipynb",
      "provenance": [],
      "include_colab_link": true
    },
    "kernelspec": {
      "name": "python3",
      "display_name": "Python 3"
    },
    "language_info": {
      "name": "python"
    }
  },
  "cells": [
    {
      "cell_type": "markdown",
      "metadata": {
        "id": "view-in-github",
        "colab_type": "text"
      },
      "source": [
        "<a href=\"https://colab.research.google.com/github/Nicompag/ISYS5002_portfolio/blob/main/testing_steps.ipynb\" target=\"_parent\"><img src=\"https://colab.research.google.com/assets/colab-badge.svg\" alt=\"Open In Colab\"/></a>"
      ]
    },
    {
      "cell_type": "markdown",
      "metadata": {
        "id": "-xcnFuWmxrX8"
      },
      "source": [
        "# Print Statement"
      ]
    },
    {
      "cell_type": "code",
      "metadata": {
        "id": "mJOzircq2ZSz"
      },
      "source": [
        "def my_func(x, y, z):\n",
        "    print('x =', x)\n",
        "    return x * y + z"
      ],
      "execution_count": null,
      "outputs": []
    },
    {
      "cell_type": "code",
      "metadata": {
        "colab": {
          "base_uri": "https://localhost:8080/"
        },
        "id": "N00GQboG2be4",
        "outputId": "34b59bb4-aeae-4cf3-a2f1-41b8cdaf49dd"
      },
      "source": [
        "my_func(1,2,3)"
      ],
      "execution_count": null,
      "outputs": [
        {
          "output_type": "stream",
          "name": "stdout",
          "text": [
            "x = 1\n"
          ]
        },
        {
          "output_type": "execute_result",
          "data": {
            "text/plain": [
              "5"
            ]
          },
          "metadata": {},
          "execution_count": 6
        }
      ]
    },
    {
      "cell_type": "markdown",
      "metadata": {
        "id": "8wNSZeTa2Ty1"
      },
      "source": [
        "# Assert Statement"
      ]
    },
    {
      "cell_type": "code",
      "metadata": {
        "id": "EmBvrh6q1Kd2"
      },
      "source": [
        "def my_func(x, y, z):\n",
        "    return x * y + z"
      ],
      "execution_count": null,
      "outputs": []
    },
    {
      "cell_type": "code",
      "metadata": {
        "id": "AiW10zSqxxr8"
      },
      "source": [
        "# test result\n",
        "result = my_func(1,1,3)\n",
        "\n",
        "#assert boolean expression, message\n",
        "assert result == 4, \"Should be 4\""
      ],
      "execution_count": null,
      "outputs": []
    },
    {
      "cell_type": "code",
      "metadata": {
        "id": "m5-IRoZjx1P4"
      },
      "source": [
        "# test function\n",
        "assert my_func(1,1,3) == 4, \"Should be 4\""
      ],
      "execution_count": null,
      "outputs": []
    },
    {
      "cell_type": "code",
      "metadata": {
        "id": "Rs4kX-Z91jn3"
      },
      "source": [
        "# test something wrong\n",
        "assert my_func(0,0,0) == 0, \"Should be 0\""
      ],
      "execution_count": null,
      "outputs": []
    },
    {
      "cell_type": "markdown",
      "metadata": {
        "id": "fSejL2YIx3BI"
      },
      "source": [
        "# Write functions\n",
        "\n",
        "Wrap the asert statement inside functions\n",
        "\n",
        "The write a function that call the test functions"
      ]
    },
    {
      "cell_type": "code",
      "metadata": {
        "id": "XJUEKmdBxqU1",
        "colab": {
          "base_uri": "https://localhost:8080/"
        },
        "outputId": "5578be54-b431-4718-bd89-36278a9191de"
      },
      "source": [
        "def test_my_function_three_numbers():\n",
        "  assert my_func(1,1,3) == 4, \"Should be 4\"\n",
        "  assert my_func(1,2,3) == 5, \"Should be 5\"\n",
        "\n",
        "def test_my_func_string_number_string():\n",
        "  result = my_func('hello', 3, 'world')\n",
        "  assert result == 'hello hello hello world', 'Check my_func can handle strings!'\n",
        "\n",
        "def run_tests():\n",
        "  print('Running test')\n",
        "  test_my_function_three_numbers()\n",
        "  test_my_function_three_numbers()\n",
        "  print('All tests passed')\n",
        "\n",
        "run_tests()"
      ],
      "execution_count": null,
      "outputs": [
        {
          "output_type": "stream",
          "name": "stdout",
          "text": [
            "Running test\n",
            "All tests passed\n"
          ]
        }
      ]
    },
    {
      "cell_type": "code",
      "metadata": {
        "colab": {
          "base_uri": "https://localhost:8080/",
          "height": 37
        },
        "id": "2-chMguK58Cc",
        "outputId": "45fabc03-b8c3-4a9b-af27-f05d00380209"
      },
      "source": [
        "my_func('hello ', 3, 'world')"
      ],
      "execution_count": null,
      "outputs": [
        {
          "output_type": "execute_result",
          "data": {
            "application/vnd.google.colaboratory.intrinsic+json": {
              "type": "string"
            },
            "text/plain": [
              "'hello hello hello world'"
            ]
          },
          "metadata": {},
          "execution_count": 27
        }
      ]
    },
    {
      "cell_type": "markdown",
      "metadata": {
        "id": "651TMRAVx7Ze"
      },
      "source": [
        "## Doctest\n",
        "\n",
        "Best practice comments functions in a doc string.  We can include tests in these docstrings"
      ]
    },
    {
      "cell_type": "code",
      "metadata": {
        "id": "X7mBZEXdYxka"
      },
      "source": [
        "def my_func(x, y, z):\n",
        "    \"\"\"\n",
        "    This function will ....\n",
        "    Parameters:\n",
        "      x: this is to...\n",
        "      y: this is to...\n",
        "    >>> my_func(1,1,3)\n",
        "    4\n",
        "    >>> my_func('hello ', 3, 'world')\n",
        "    'hello hello hello world'\n",
        "    \"\"\"\n",
        "    return x * y + z"
      ],
      "execution_count": null,
      "outputs": []
    },
    {
      "cell_type": "code",
      "metadata": {
        "colab": {
          "base_uri": "https://localhost:8080/"
        },
        "id": "rDNaINq57OB-",
        "outputId": "4f52bacb-7dcf-4afc-ff98-06363c64f702"
      },
      "source": [
        "help(my_func)"
      ],
      "execution_count": null,
      "outputs": [
        {
          "output_type": "stream",
          "name": "stdout",
          "text": [
            "Help on function my_func in module __main__:\n",
            "\n",
            "my_func(x, y, z)\n",
            "    This function will ....\n",
            "    Parameters:\n",
            "      x: this is to...\n",
            "      y: this is to...\n",
            "    >>> my_func(1,1,3)\n",
            "    5\n",
            "    >>> my_func('hello ', 3, 'world')\n",
            "    'hello hello hello world'\n",
            "\n"
          ]
        }
      ]
    },
    {
      "cell_type": "code",
      "metadata": {
        "id": "fzNLAyVByVaR",
        "colab": {
          "base_uri": "https://localhost:8080/"
        },
        "outputId": "b3933ad7-e788-46ed-86fe-b333ca356109"
      },
      "source": [
        "import doctest\n",
        "doctest.testmod()"
      ],
      "execution_count": null,
      "outputs": [
        {
          "output_type": "execute_result",
          "data": {
            "text/plain": [
              "TestResults(failed=0, attempted=2)"
            ]
          },
          "metadata": {},
          "execution_count": 43
        }
      ]
    },
    {
      "cell_type": "markdown",
      "metadata": {
        "id": "MBlQNvp9zpNu"
      },
      "source": [
        "# unittests\n",
        "\n",
        "Similar to writing own functions with assert statement, but provides summary output"
      ]
    },
    {
      "cell_type": "code",
      "metadata": {
        "id": "jZyaDcR2fSwG",
        "colab": {
          "base_uri": "https://localhost:8080/"
        },
        "outputId": "9b97e2f8-c75e-468d-8176-ddd4980e2e1a"
      },
      "source": [
        "!pip install ipython_unittest\n",
        "%load_ext ipython_unittest"
      ],
      "execution_count": null,
      "outputs": [
        {
          "output_type": "stream",
          "name": "stdout",
          "text": [
            "Collecting ipython_unittest\n",
            "  Downloading ipython_unittest-0.3.1-py2.py3-none-any.whl (15 kB)\n",
            "Installing collected packages: ipython-unittest\n",
            "Successfully installed ipython-unittest-0.3.1\n"
          ]
        }
      ]
    },
    {
      "cell_type": "code",
      "metadata": {
        "id": "A6B6Rpb5eUjS",
        "colab": {
          "base_uri": "https://localhost:8080/",
          "height": 136
        },
        "outputId": "0305b254-3d10-407b-8a6c-8f933a64f5d6"
      },
      "source": [
        "%%unittest_testcase\n",
        "def test_three_number(self):\n",
        "  result = my_func(1,1,3)\n",
        "  self.assertEqual(result,4)"
      ],
      "execution_count": null,
      "outputs": [
        {
          "output_type": "display_data",
          "data": {
            "application/unittest.status+json": {
              "color": "yellow",
              "message": "",
              "previous": 0
            },
            "text/plain": [
              ""
            ]
          },
          "metadata": {}
        },
        {
          "output_type": "display_data",
          "data": {
            "application/unittest.status+json": {
              "color": "lightgreen",
              "message": ".\n----------------------------------------------------------------------\nRan 1 test in 0.000s\n\nOK\n",
              "previous": 0
            },
            "text/plain": [
              "Success"
            ]
          },
          "metadata": {}
        },
        {
          "output_type": "stream",
          "name": "stdout",
          "text": [
            ".\n",
            "----------------------------------------------------------------------\n",
            "Ran 1 test in 0.000s\n",
            "\n",
            "OK\n"
          ]
        },
        {
          "output_type": "execute_result",
          "data": {
            "text/plain": [
              "<unittest.runner.TextTestResult run=1 errors=0 failures=0>"
            ]
          },
          "metadata": {},
          "execution_count": 50
        }
      ]
    },
    {
      "cell_type": "code",
      "metadata": {
        "id": "xe6oeWDQ8gtw"
      },
      "source": [
        ""
      ],
      "execution_count": null,
      "outputs": []
    }
  ]
}