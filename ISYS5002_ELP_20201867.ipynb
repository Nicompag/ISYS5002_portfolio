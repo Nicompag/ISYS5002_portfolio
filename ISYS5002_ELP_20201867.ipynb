{
  "nbformat": 4,
  "nbformat_minor": 0,
  "metadata": {
    "colab": {
      "name": "ISYS5002_ELP_20201867.ipynb",
      "provenance": [],
      "authorship_tag": "ABX9TyO8RH0u68wwtvgRe9awcLrc",
      "include_colab_link": true
    },
    "kernelspec": {
      "name": "python3",
      "display_name": "Python 3"
    },
    "language_info": {
      "name": "python"
    }
  },
  "cells": [
    {
      "cell_type": "markdown",
      "metadata": {
        "id": "view-in-github",
        "colab_type": "text"
      },
      "source": [
        "<a href=\"https://colab.research.google.com/github/Nicompag/ISYS5002_portfolio/blob/main/ISYS5002_ELP_20201867.ipynb\" target=\"_parent\"><img src=\"https://colab.research.google.com/assets/colab-badge.svg\" alt=\"Open In Colab\"/></a>"
      ]
    },
    {
      "cell_type": "markdown",
      "metadata": {
        "id": "6waE-CXe0ou5"
      },
      "source": [
        "2. A comment is an explanation or annotation in the source code of a computer program. Well commented functions are helpful to other programmers to understand the code better. The following function has no comments. Add some comments that explain the purpose and actions of the code in the following method."
      ]
    },
    {
      "cell_type": "code",
      "metadata": {
        "id": "Sbo7Ko-I0urB"
      },
      "source": [
        "def get_url(search_term, template): #this line defines a function. The function takes two inputs: search_term and template\n",
        "  search_term = search_term.replace(' ', '+') #this line replaces all ' ' in the input search_term with '+' and stores it in the variable search_term\n",
        "  url = template.format(search_term) #this line replaces '{}' in the input template with the variable search_term and stores it in the variable url\n",
        "  url += '&page={}' #this line adds '&page={}' to the end of the variable url\n",
        "  return url #this line returns the variable url "
      ],
      "execution_count": 1,
      "outputs": []
    }
  ]
}