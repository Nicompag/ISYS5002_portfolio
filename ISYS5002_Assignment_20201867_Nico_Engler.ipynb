{
  "nbformat": 4,
  "nbformat_minor": 0,
  "metadata": {
    "colab": {
      "name": "ISYS5002_Assignment_20201867_Nico_Engler.ipynb",
      "provenance": [],
      "authorship_tag": "ABX9TyOwbzuL28xrm1Ge+nArQCbt",
      "include_colab_link": true
    },
    "kernelspec": {
      "name": "python3",
      "display_name": "Python 3"
    },
    "language_info": {
      "name": "python"
    }
  },
  "cells": [
    {
      "cell_type": "markdown",
      "metadata": {
        "id": "view-in-github",
        "colab_type": "text"
      },
      "source": [
        "<a href=\"https://colab.research.google.com/github/Nicompag/ISYS5002_portfolio/blob/main/ISYS5002_Assignment_20201867_Nico_Engler.ipynb\" target=\"_parent\"><img src=\"https://colab.research.google.com/assets/colab-badge.svg\" alt=\"Open In Colab\"/></a>"
      ]
    },
    {
      "cell_type": "markdown",
      "metadata": {
        "id": "NrO4jQz1VGU6"
      },
      "source": [
        "#Assignment ISYS5002\n",
        "\n",
        "#####Curtin University\n",
        "#####Semester 2 - 2021\n",
        "#####Nico Engler (20201867)\n",
        "\n",
        "##Steps\n",
        "\n",
        "1. Get input: Prompt the use for a ticker. Make sure the ticker is valid and is an Australian ticker. It does not make sense to calculate the tax with the Australian tax table for incomes in other countries and currencies.\n",
        "\n",
        "2. Get the data: Go to Yahoo Finance and get the executive table. Find a way to get some form of raw data from the information on the website.\n",
        "\n",
        "3. Extract collection: Extract all neccessary information (at least name and salary) from that raw information. Make sure the functions have some form of error handling. Also, sort the data that you can manipulate it with pandas.\n",
        "\n",
        "4. Store data: Prompt the user for the favoured data storaged. Give choice for csv file, SQLite Database or both. \n",
        "\n",
        "5. Putting it together: Combined all functions so that the program runs at once. Make sure there is sufficient input validation and error handling. Also, describe each function for other users. "
      ]
    },
    {
      "cell_type": "markdown",
      "metadata": {
        "id": "3FI4eibyKZbc"
      },
      "source": [
        "##Import Modules\n",
        "\n",
        "Add here all modules you are going to use for the program"
      ]
    },
    {
      "cell_type": "code",
      "metadata": {
        "id": "Bj2nUsH4KW_N"
      },
      "source": [
        "#First I tried to get the data via the yfinance module\n",
        "#!pip install yfinance\n",
        "#import yfinance as yfin\n",
        "#yfin.pdr_override()\n",
        "\n",
        "!pip install kora -q\n",
        "import requests\n",
        "from bs4 import BeautifulSoup\n",
        "from kora.selenium import wd\n",
        "import pandas as pd\n"
      ],
      "execution_count": null,
      "outputs": []
    },
    {
      "cell_type": "markdown",
      "metadata": {
        "id": "5Qnp2n3YGIiD"
      },
      "source": [
        "#1. Get Input"
      ]
    },
    {
      "cell_type": "markdown",
      "metadata": {
        "id": "u_4Vl5iTYzsF"
      },
      "source": [
        "First input validation idea"
      ]
    },
    {
      "cell_type": "code",
      "metadata": {
        "id": "_z5oq1EPGNRE"
      },
      "source": [
        "ticker = input('''Please enter the company's stock market ticker symbol: ''')\n",
        "\n",
        "\n",
        "if ticker.isdigit() == True:\n",
        "print('Please enter a valid stock market ticker symbol!')\n",
        "\n"
      ],
      "execution_count": null,
      "outputs": []
    },
    {
      "cell_type": "markdown",
      "metadata": {
        "id": "afkmcrmWY4_7"
      },
      "source": [
        "More effective input validation"
      ]
    },
    {
      "cell_type": "code",
      "metadata": {
        "id": "HKefCFChGsxB"
      },
      "source": [
        "def get_input():\n",
        "  while True:\n",
        "    ticker = input('''Please enter an Australian stock market ticker symbol: ''')\n",
        "    if ticker[-3:] == '.ax' or ticker[-3:] == '.AX':\n",
        "      ticker = ticker\n",
        "      break\n",
        "    else:\n",
        "      print('Please enter an Australian ticker.')\n",
        "  return ticker\n",
        "\n",
        "ticker = get_input()\n",
        "ticker"
      ],
      "execution_count": null,
      "outputs": []
    },
    {
      "cell_type": "markdown",
      "metadata": {
        "id": "tA3aGE2eNi3-"
      },
      "source": [
        "#2. Get Data"
      ]
    },
    {
      "cell_type": "markdown",
      "metadata": {
        "id": "ZWU1zBDHZCoR"
      },
      "source": [
        "Establish the session using the kora selenium module."
      ]
    },
    {
      "cell_type": "code",
      "metadata": {
        "id": "wmvP8QX_Nksq"
      },
      "source": [
        "url = 'https://au.finance.yahoo.com/'\n",
        "wd.get(url)"
      ],
      "execution_count": null,
      "outputs": []
    },
    {
      "cell_type": "markdown",
      "metadata": {
        "id": "zeo5nRoDZQA6"
      },
      "source": [
        "Work out the pattern of the desired URL"
      ]
    },
    {
      "cell_type": "code",
      "metadata": {
        "id": "AxPV26TfNpmA"
      },
      "source": [
        "# Work out URL pattern\n",
        "template = 'https://au.finance.yahoo.com/quote/{ticker1}/profile?p={ticker2}'\n",
        "\n",
        "url = template.format(ticker1 = ticker, ticker2 = ticker)\n",
        "wd.get(url)"
      ],
      "execution_count": null,
      "outputs": []
    },
    {
      "cell_type": "markdown",
      "metadata": {
        "id": "1RwWM7WZZX-7"
      },
      "source": [
        "Create a function with the pattern"
      ]
    },
    {
      "cell_type": "code",
      "metadata": {
        "id": "SYWE7OH5OKfH"
      },
      "source": [
        "def get_url(ticker):\n",
        "  template = 'https://au.finance.yahoo.com/quote/{ticker1}/profile?p={ticker2}'\n",
        "  url = template.format(ticker1 = ticker, ticker2 = ticker)\n",
        "\n",
        "  return url"
      ],
      "execution_count": null,
      "outputs": []
    },
    {
      "cell_type": "markdown",
      "metadata": {
        "id": "MKb92HMTZfVS"
      },
      "source": [
        "Using the BeautifulSoup module to get the raw data"
      ]
    },
    {
      "cell_type": "code",
      "metadata": {
        "id": "-JayQxBqPb3M"
      },
      "source": [
        "soup = BeautifulSoup(wd.page_source, 'html.parser')"
      ],
      "execution_count": null,
      "outputs": []
    },
    {
      "cell_type": "markdown",
      "metadata": {
        "id": "9A9mcVDePjpb"
      },
      "source": [
        "#3. Extract Collection"
      ]
    },
    {
      "cell_type": "markdown",
      "metadata": {
        "id": "spC99hLKZlMW"
      },
      "source": [
        "Find the right information in the raw data"
      ]
    },
    {
      "cell_type": "code",
      "metadata": {
        "id": "X38o2huQPg7r"
      },
      "source": [
        "table = soup.find_all('tr', {'class': 'C($primaryColor) BdB Bdc($seperatorColor) H(36px)'})\n",
        "table[4].td.text"
      ],
      "execution_count": null,
      "outputs": []
    },
    {
      "cell_type": "markdown",
      "metadata": {
        "id": "pkzXgT1WZqyP"
      },
      "source": [
        "Find the name from the sorted raw data"
      ]
    },
    {
      "cell_type": "code",
      "metadata": {
        "id": "XBfBoxGzQ6N2"
      },
      "source": [
        "def extract_name(item):\n",
        "  name = item.td.text\n",
        "  return name"
      ],
      "execution_count": null,
      "outputs": []
    },
    {
      "cell_type": "markdown",
      "metadata": {
        "id": "RWbF6dB6Z5iW"
      },
      "source": [
        "Find the salary from the sorted raw data. Understand pattern to convert salary in string format into float."
      ]
    },
    {
      "cell_type": "code",
      "metadata": {
        "id": "3kzvfygBSvEy"
      },
      "source": [
        "item = table[0]\n",
        "salary = item.find('td', 'Ta(end)')\n",
        "salary = salary.text\n",
        "\n",
        "salary[-1]"
      ],
      "execution_count": null,
      "outputs": []
    },
    {
      "cell_type": "markdown",
      "metadata": {
        "id": "tfOTsnqJaCfE"
      },
      "source": [
        "Build function to extract salary and convert into float"
      ]
    },
    {
      "cell_type": "code",
      "metadata": {
        "id": "HIjZS_SPTxt3"
      },
      "source": [
        "def extract_salary(item):\n",
        "  try:\n",
        "    salary = item.find('td', 'Ta(end)')\n",
        "    salary = salary.text \n",
        "    if salary[-1] == \"M\":\n",
        "      salary = float(salary[:-1])*1000000\n",
        "    else:\n",
        "      salary = float(salary[:-1])*1000\n",
        "  except ValueError:\n",
        "    salary = 'N/A'\n",
        "  return salary"
      ],
      "execution_count": null,
      "outputs": []
    },
    {
      "cell_type": "markdown",
      "metadata": {
        "id": "_qSBgWv_aK0Q"
      },
      "source": [
        "Test salary for several executives"
      ]
    },
    {
      "cell_type": "code",
      "metadata": {
        "id": "mCckedReVgf6"
      },
      "source": [
        "extract_salary(table[6])"
      ],
      "execution_count": null,
      "outputs": []
    },
    {
      "cell_type": "markdown",
      "metadata": {
        "id": "UDq-Q3ESaOst"
      },
      "source": [
        "Find the title from sorted raw data and build function to extract the title"
      ]
    },
    {
      "cell_type": "code",
      "metadata": {
        "id": "T7GKSILQblSR"
      },
      "source": [
        "def extract_title(item):\n",
        "  title = item.find('td', 'Ta(start) W(45%)')\n",
        "  title = title.text\n",
        "  return title"
      ],
      "execution_count": null,
      "outputs": []
    },
    {
      "cell_type": "markdown",
      "metadata": {
        "id": "c5GSVrjVaayg"
      },
      "source": [
        "Calculate the tax of a given salary. If not sure how to handle not available salaries, create error handling so the program works in any case."
      ]
    },
    {
      "cell_type": "code",
      "metadata": {
        "id": "f_4sYejzOdbq"
      },
      "source": [
        "def calculate_tax(income):\n",
        "  try:\n",
        "    if income <= 18200:\n",
        "      tax_payable = 0\n",
        "    elif 18200 < income <= 45000:\n",
        "      tax_payable = (income - 18200) * 0.19\n",
        "    elif 45000 < income <= 120000:\n",
        "      tax_payable = 5092 + 0.325 * (income - 45000)\n",
        "    elif 120000 < income <= 180000:\n",
        "      tax_payable = 29467 + 0.37 * (income - 120000)\n",
        "    elif income > 180000:\n",
        "      tax_payable = 51667 + 0.45 * (income - 180000)\n",
        "  except TypeError:\n",
        "      tax_payable = 'N/A'\n",
        "  return tax_payable"
      ],
      "execution_count": null,
      "outputs": []
    },
    {
      "cell_type": "markdown",
      "metadata": {
        "id": "jDLAo_CSat58"
      },
      "source": [
        "Create a function to combine all findings into a dictionary for further use."
      ]
    },
    {
      "cell_type": "code",
      "metadata": {
        "id": "35SFG-BzaQR_"
      },
      "source": [
        "def extract_record(item):\n",
        "  return {\n",
        "      'Name': extract_name(item),\n",
        "      'Title': extract_title(item),\n",
        "      'Salary': extract_salary(item),\n",
        "      'Expected income tax': calculate_tax(extract_salary(item))\n",
        "  }"
      ],
      "execution_count": null,
      "outputs": []
    },
    {
      "cell_type": "markdown",
      "metadata": {
        "id": "OZXwp2C4a0x4"
      },
      "source": [
        "Find a way to extract the information of each executive in the sorted raw data"
      ]
    },
    {
      "cell_type": "code",
      "metadata": {
        "id": "bSQpoFHMYUgW"
      },
      "source": [
        "for i in table:\n",
        "  print(extract_name(i))"
      ],
      "execution_count": null,
      "outputs": []
    },
    {
      "cell_type": "markdown",
      "metadata": {
        "id": "467ZYD8ra83o"
      },
      "source": [
        "Combine all executive dictionaries into a list."
      ]
    },
    {
      "cell_type": "code",
      "metadata": {
        "id": "z62fa8DqY2Mg"
      },
      "source": [
        "records = []\n",
        "for i in table:\n",
        "  records.append(extract_record(i))"
      ],
      "execution_count": null,
      "outputs": []
    },
    {
      "cell_type": "markdown",
      "metadata": {
        "id": "Lcg1UQ5YbTcY"
      },
      "source": [
        "Convert that list into a dataframe in pandas to visualise information and make it available for further use."
      ]
    },
    {
      "cell_type": "code",
      "metadata": {
        "id": "C8gofeS3ZDrD"
      },
      "source": [
        "df = pd.DataFrame.from_records(records)\n",
        "df"
      ],
      "execution_count": null,
      "outputs": []
    },
    {
      "cell_type": "markdown",
      "metadata": {
        "id": "O-PhzrDwb2V-"
      },
      "source": [
        "#4. Store Data"
      ]
    },
    {
      "cell_type": "markdown",
      "metadata": {
        "id": "narO9K1ibf2T"
      },
      "source": [
        "Find a way to store data in the favoured data format."
      ]
    },
    {
      "cell_type": "code",
      "metadata": {
        "colab": {
          "base_uri": "https://localhost:8080/",
          "height": 122
        },
        "id": "GMSCJ6VKNvBr",
        "outputId": "b50ddff7-c006-4f86-b051-041f83133bcd"
      },
      "source": [
        "#store data\n",
        "place = input('''Where do you want to store the data? \n",
        "Press 1 for cvs file,\n",
        "Press 2 for data,\n",
        "Press 3 for both.\n",
        "''')\n",
        "\n",
        "place"
      ],
      "execution_count": 11,
      "outputs": [
        {
          "name": "stdout",
          "output_type": "stream",
          "text": [
            "Where do you want to store the data? \n",
            "Press 1 for cvs file,\n",
            "Press 2 for data,\n",
            "Press 3 for both.\n",
            "1\n"
          ]
        },
        {
          "output_type": "execute_result",
          "data": {
            "application/vnd.google.colaboratory.intrinsic+json": {
              "type": "string"
            },
            "text/plain": [
              "'1'"
            ]
          },
          "metadata": {},
          "execution_count": 11
        }
      ]
    },
    {
      "cell_type": "code",
      "metadata": {
        "id": "hDmOIiI4cAaU"
      },
      "source": [
        ""
      ],
      "execution_count": null,
      "outputs": []
    },
    {
      "cell_type": "markdown",
      "metadata": {
        "id": "__4z8XJBblwG"
      },
      "source": [
        "Create function for saving the data."
      ]
    },
    {
      "cell_type": "code",
      "metadata": {
        "id": "IpCMhL3cbqqa"
      },
      "source": [
        ""
      ],
      "execution_count": null,
      "outputs": []
    },
    {
      "cell_type": "markdown",
      "metadata": {
        "id": "DP6s3I-tbHNH"
      },
      "source": [
        "#5. Putting it together"
      ]
    },
    {
      "cell_type": "code",
      "metadata": {
        "id": "QphhzCIdQKs_"
      },
      "source": [
        "!pip install kora -q\n",
        "'''load packages'''\n",
        "import requests\n",
        "from bs4 import BeautifulSoup\n",
        "from kora.selenium import wd\n",
        "import pandas as pd\n",
        "\n",
        "def get_url(ticker):\n",
        "  ''' \n",
        "  This function gets the url from Yahoo Finance.\n",
        "  '''\n",
        "  template = 'https://au.finance.yahoo.com/quote/{ticker1}/profile?p={ticker2}'\n",
        "  url = template.format(ticker1 = ticker, ticker2 = ticker)\n",
        "  return url\n",
        "\n",
        "def extract_name(item):\n",
        "  '''\n",
        "  This function extracts the name of the executive.\n",
        "  '''\n",
        "  name = item.td.text\n",
        "  return name\n",
        "\n",
        "def extract_title(item):\n",
        "  '''\n",
        "  This function gets the title or role from the respective executive.\n",
        "  '''\n",
        "  title = item.find('td', 'Ta(start) W(45%)')\n",
        "  title = title.text\n",
        "  return title\n",
        "\n",
        "def extract_salary(item):\n",
        "  '''\n",
        "  This function extracts the salary of the executive. It also converts the salary from a string into a number (float). \n",
        "  If no salary is given (\"N/A\"), the salary is assumed to be 0.\n",
        "  '''\n",
        "  try:\n",
        "    salary = item.find('td', 'Ta(end)')\n",
        "    salary = salary.text\n",
        "    if salary[-1] == \"M\":\n",
        "      salary = float(salary[:-1])*1000000\n",
        "    else:\n",
        "      salary = float(salary[:-1])*1000 \n",
        "  except ValueError:\n",
        "    salary = 0\n",
        "  return salary\n",
        "\n",
        "def calculate_tax(income):\n",
        "  '''\n",
        "  This function calculates the tax payable from a given salary. If the salary is not a number, the income tax is assumed to be 0.\n",
        "  '''\n",
        "  try:\n",
        "    if income <= 18200:\n",
        "      tax_payable = 0\n",
        "    elif 18200 < income <= 45000:\n",
        "      tax_payable = (income - 18200) * 0.19\n",
        "    elif 45000 < income <= 120000:\n",
        "      tax_payable = 5092 + 0.325 * (income - 45000)\n",
        "    elif 120000 < income <= 180000:\n",
        "      tax_payable = 29467 + 0.37 * (income - 120000)\n",
        "    elif income > 180000:\n",
        "      tax_payable = 51667 + 0.45 * (income - 180000)\n",
        "  except TypeError:\n",
        "      tax_payable = 0\n",
        "  return tax_payable\n",
        "\n",
        "def extract_record(item):\n",
        "  '''\n",
        "  This functions combines the name, title, salary and expected income tax from each executive in the table.\n",
        "  The output is a list made of dictionaries containing the information for each executive.\n",
        "  '''\n",
        "  return {\n",
        "      'Name': extract_name(item),\n",
        "      'Title': extract_title(item),\n",
        "      'Salary': extract_salary(item),\n",
        "      'Expected income tax': calculate_tax(extract_salary(item))\n",
        "  }\n",
        "\n",
        "def ticker_validation(dataframe):\n",
        "  '''\n",
        "  This functions validates whether the given ticker is a valid ticker. \n",
        "  If there are no information on Yahoo Finance under the given ticker, the user will be prompt to enter a new ticker.\n",
        "  '''\n",
        "  while True:\n",
        "    if dataframe.empty:\n",
        "      print('No information under this ticker. Please enter a valid ticker.')\n",
        "      ticker = get_input()\n",
        "      url = get_url(ticker)\n",
        "      wd.get(url)\n",
        "      soup = BeautifulSoup(wd.page_source, 'html.parser')\n",
        "      records = []\n",
        "      table = soup.find_all('tr', {'class': 'C($primaryColor) BdB Bdc($seperatorColor) H(36px)'})\n",
        "      for i in table:\n",
        "        records.append(extract_record(i))   \n",
        "      dataframe = pd.DataFrame.from_records(records)\n",
        "    else: \n",
        "      break\n",
        "  return dataframe\n",
        "\n",
        "def get_input():\n",
        "  '''\n",
        "  This function makes sure that the entered ticker belongs to an Australian company that is listed on the Australian Stock Exchange.\n",
        "  If the ticker is not at traded at the ASX, the user will be prompt to enter a new ticker.\n",
        "  '''\n",
        "  while True:\n",
        "    ticker = input('''Please enter an Australian stock market ticker symbol: ''')\n",
        "    if ticker[-3:] == '.ax' or ticker[-3:] == '.AX':\n",
        "      ticker = ticker\n",
        "      break\n",
        "    else:\n",
        "      print('Please enter an Australian ticker.')\n",
        "  return ticker"
      ],
      "execution_count": 14,
      "outputs": []
    },
    {
      "cell_type": "code",
      "metadata": {
        "id": "Uuqcp8OgQqOC",
        "colab": {
          "base_uri": "https://localhost:8080/",
          "height": 376
        },
        "outputId": "5b2ed8e8-04f3-4dcf-e43f-0026963dbdf4"
      },
      "source": [
        "ticker = get_input()\n",
        "url = get_url(ticker)\n",
        "wd.get(url)\n",
        "soup = BeautifulSoup(wd.page_source, 'html.parser')\n",
        "records = []\n",
        "table = soup.find_all('tr', {'class': 'C($primaryColor) BdB Bdc($seperatorColor) H(36px)'})\n",
        "\n",
        "for i in table:\n",
        "  records.append(extract_record(i))\n",
        "\n",
        "df = pd.DataFrame.from_records(records)\n",
        "df = ticker_validation(df)\n",
        "df"
      ],
      "execution_count": 13,
      "outputs": [
        {
          "name": "stdout",
          "output_type": "stream",
          "text": [
            "Please enter an Australian stock market ticker symbol: nab.ax\n"
          ]
        },
        {
          "output_type": "execute_result",
          "data": {
            "text/html": [
              "<div>\n",
              "<style scoped>\n",
              "    .dataframe tbody tr th:only-of-type {\n",
              "        vertical-align: middle;\n",
              "    }\n",
              "\n",
              "    .dataframe tbody tr th {\n",
              "        vertical-align: top;\n",
              "    }\n",
              "\n",
              "    .dataframe thead th {\n",
              "        text-align: right;\n",
              "    }\n",
              "</style>\n",
              "<table border=\"1\" class=\"dataframe\">\n",
              "  <thead>\n",
              "    <tr style=\"text-align: right;\">\n",
              "      <th></th>\n",
              "      <th>Name</th>\n",
              "      <th>Title</th>\n",
              "      <th>Salary</th>\n",
              "      <th>Expected income tax</th>\n",
              "    </tr>\n",
              "  </thead>\n",
              "  <tbody>\n",
              "    <tr>\n",
              "      <th>0</th>\n",
              "      <td>Mr. Ross Maxwell McEwan CBE, B.B.S.</td>\n",
              "      <td>Group CEO, MD &amp; Director</td>\n",
              "      <td>2540000.0</td>\n",
              "      <td>1113667.0</td>\n",
              "    </tr>\n",
              "    <tr>\n",
              "      <th>1</th>\n",
              "      <td>Mr. Gary Andrew Lennon BEC, F.C.A., BEc (Hons)...</td>\n",
              "      <td>Group Chief Financial Officer</td>\n",
              "      <td>1130000.0</td>\n",
              "      <td>479167.0</td>\n",
              "    </tr>\n",
              "    <tr>\n",
              "      <th>2</th>\n",
              "      <td>Mr. Patrick F. Wright</td>\n",
              "      <td>Group Exec. of Technology &amp; Enterprise Operations</td>\n",
              "      <td>1720000.0</td>\n",
              "      <td>744667.0</td>\n",
              "    </tr>\n",
              "    <tr>\n",
              "      <th>3</th>\n",
              "      <td>Ms. Sharon J. Cook</td>\n",
              "      <td>Group Exec. of Legal &amp; Commercial Services</td>\n",
              "      <td>912980.0</td>\n",
              "      <td>381508.0</td>\n",
              "    </tr>\n",
              "    <tr>\n",
              "      <th>4</th>\n",
              "      <td>Ms. Susan  Ferrier</td>\n",
              "      <td>Group Exec. of People &amp; Culture</td>\n",
              "      <td>929270.0</td>\n",
              "      <td>388838.5</td>\n",
              "    </tr>\n",
              "    <tr>\n",
              "      <th>5</th>\n",
              "      <td>Ms. Angela  Mentis B.Bus</td>\n",
              "      <td>Group Chief Digital, Data &amp; Analytics Officer</td>\n",
              "      <td>1620000.0</td>\n",
              "      <td>699667.0</td>\n",
              "    </tr>\n",
              "    <tr>\n",
              "      <th>6</th>\n",
              "      <td>Mr. Shaun  Dooley</td>\n",
              "      <td>Chief Risk Officer</td>\n",
              "      <td>1050000.0</td>\n",
              "      <td>443167.0</td>\n",
              "    </tr>\n",
              "    <tr>\n",
              "      <th>7</th>\n",
              "      <td>Mr. Andrew  Irvine</td>\n",
              "      <td>Chief Exec. of Bus. Private Banking Division</td>\n",
              "      <td>333270.0</td>\n",
              "      <td>120638.5</td>\n",
              "    </tr>\n",
              "    <tr>\n",
              "      <th>8</th>\n",
              "      <td>Mr. Lesile D. Matheson</td>\n",
              "      <td>Group Chief Operating Officer</td>\n",
              "      <td>0.0</td>\n",
              "      <td>0.0</td>\n",
              "    </tr>\n",
              "    <tr>\n",
              "      <th>9</th>\n",
              "      <td>Ms. Sally  Mihell</td>\n",
              "      <td>Head of Investor Relations</td>\n",
              "      <td>0.0</td>\n",
              "      <td>0.0</td>\n",
              "    </tr>\n",
              "  </tbody>\n",
              "</table>\n",
              "</div>"
            ],
            "text/plain": [
              "                                                Name  ... Expected income tax\n",
              "0                Mr. Ross Maxwell McEwan CBE, B.B.S.  ...           1113667.0\n",
              "1  Mr. Gary Andrew Lennon BEC, F.C.A., BEc (Hons)...  ...            479167.0\n",
              "2                              Mr. Patrick F. Wright  ...            744667.0\n",
              "3                                 Ms. Sharon J. Cook  ...            381508.0\n",
              "4                                 Ms. Susan  Ferrier  ...            388838.5\n",
              "5                           Ms. Angela  Mentis B.Bus  ...            699667.0\n",
              "6                                  Mr. Shaun  Dooley  ...            443167.0\n",
              "7                                 Mr. Andrew  Irvine  ...            120638.5\n",
              "8                             Mr. Lesile D. Matheson  ...                 0.0\n",
              "9                                  Ms. Sally  Mihell  ...                 0.0\n",
              "\n",
              "[10 rows x 4 columns]"
            ]
          },
          "metadata": {},
          "execution_count": 13
        }
      ]
    }
  ]
}