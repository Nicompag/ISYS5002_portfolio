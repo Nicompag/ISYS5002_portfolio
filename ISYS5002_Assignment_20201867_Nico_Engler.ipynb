{
  "nbformat": 4,
  "nbformat_minor": 0,
  "metadata": {
    "colab": {
      "name": "ISYS5002_Assignment_20201867_Nico_Engler.ipynb",
      "provenance": [],
      "authorship_tag": "ABX9TyOfKOpTISUadgtkG1TcvGIt",
      "include_colab_link": true
    },
    "kernelspec": {
      "name": "python3",
      "display_name": "Python 3"
    },
    "language_info": {
      "name": "python"
    }
  },
  "cells": [
    {
      "cell_type": "markdown",
      "metadata": {
        "id": "view-in-github",
        "colab_type": "text"
      },
      "source": [
        "<a href=\"https://colab.research.google.com/github/Nicompag/ISYS5002_portfolio/blob/main/ISYS5002_Assignment_20201867_Nico_Engler.ipynb\" target=\"_parent\"><img src=\"https://colab.research.google.com/assets/colab-badge.svg\" alt=\"Open In Colab\"/></a>"
      ]
    },
    {
      "cell_type": "markdown",
      "metadata": {
        "id": "3FI4eibyKZbc"
      },
      "source": [
        "#Import Modules"
      ]
    },
    {
      "cell_type": "code",
      "metadata": {
        "id": "Bj2nUsH4KW_N"
      },
      "source": [
        "#!pip install yfinance\n",
        "#import yfinance as yfin\n",
        "#yfin.pdr_override()\n",
        "!pip install kora -q\n",
        "'''load packages'''\n",
        "import requests\n",
        "from bs4 import BeautifulSoup\n",
        "from kora.selenium import wd\n",
        "import pandas as pd\n"
      ],
      "execution_count": null,
      "outputs": []
    },
    {
      "cell_type": "markdown",
      "metadata": {
        "id": "5Qnp2n3YGIiD"
      },
      "source": [
        "#1. Get Input"
      ]
    },
    {
      "cell_type": "code",
      "metadata": {
        "id": "_z5oq1EPGNRE"
      },
      "source": [
        "ticker = input('''Please enter the company's stock market ticker symbol: ''')\n",
        "\n",
        "# Input validation\n",
        "#if ticker.isdigit() == True:\n",
        "#  print('Please enter a valid stock market ticker symbol!')\n",
        "\n"
      ],
      "execution_count": null,
      "outputs": []
    },
    {
      "cell_type": "code",
      "metadata": {
        "id": "HKefCFChGsxB"
      },
      "source": [
        "def get_input():\n",
        "  while True:\n",
        "    ticker = input('''Please enter an Australian stock market ticker symbol: ''')\n",
        "    if ticker[-3:] == '.ax' or ticker[-3:] == '.AX':\n",
        "      ticker = ticker\n",
        "      break\n",
        "    else:\n",
        "      print('Please enter an Australian ticker.')\n",
        "  return ticker\n",
        "\n",
        "ticker = get_input()\n",
        "ticker"
      ],
      "execution_count": null,
      "outputs": []
    },
    {
      "cell_type": "markdown",
      "metadata": {
        "id": "tA3aGE2eNi3-"
      },
      "source": [
        "#2. Get Data"
      ]
    },
    {
      "cell_type": "code",
      "metadata": {
        "id": "wmvP8QX_Nksq"
      },
      "source": [
        "# Establish Session\n",
        "url = 'https://au.finance.yahoo.com/'\n",
        "wd.get(url)"
      ],
      "execution_count": null,
      "outputs": []
    },
    {
      "cell_type": "code",
      "metadata": {
        "id": "AxPV26TfNpmA"
      },
      "source": [
        "# Work out URL pattern\n",
        "template = 'https://au.finance.yahoo.com/quote/{ticker1}/profile?p={ticker2}'\n",
        "\n",
        "url = template.format(ticker1 = ticker, ticker2 = ticker)\n",
        "wd.get(url)"
      ],
      "execution_count": null,
      "outputs": []
    },
    {
      "cell_type": "code",
      "metadata": {
        "id": "SYWE7OH5OKfH"
      },
      "source": [
        "def get_url(ticker):\n",
        "  template = 'https://au.finance.yahoo.com/quote/{ticker1}/profile?p={ticker2}'\n",
        "  url = template.format(ticker1 = ticker, ticker2 = ticker)\n",
        "\n",
        "  return url"
      ],
      "execution_count": null,
      "outputs": []
    },
    {
      "cell_type": "code",
      "metadata": {
        "id": "-JayQxBqPb3M"
      },
      "source": [
        "soup = BeautifulSoup(wd.page_source, 'html.parser')"
      ],
      "execution_count": null,
      "outputs": []
    },
    {
      "cell_type": "markdown",
      "metadata": {
        "id": "9A9mcVDePjpb"
      },
      "source": [
        "#3. Extract Collection"
      ]
    },
    {
      "cell_type": "code",
      "metadata": {
        "id": "X38o2huQPg7r"
      },
      "source": [
        "table = soup.find_all('tr', {'class': 'C($primaryColor) BdB Bdc($seperatorColor) H(36px)'})\n",
        "table[4].td.text"
      ],
      "execution_count": null,
      "outputs": []
    },
    {
      "cell_type": "code",
      "metadata": {
        "id": "XBfBoxGzQ6N2"
      },
      "source": [
        "def extract_name(item):\n",
        "  name = item.td.text\n",
        "  return name"
      ],
      "execution_count": null,
      "outputs": []
    },
    {
      "cell_type": "code",
      "metadata": {
        "id": "3kzvfygBSvEy"
      },
      "source": [
        "item = table[0]\n",
        "salary = item.find('td', 'Ta(end)')\n",
        "salary = salary.text\n",
        "\n",
        "salary[-1]"
      ],
      "execution_count": null,
      "outputs": []
    },
    {
      "cell_type": "code",
      "metadata": {
        "id": "HIjZS_SPTxt3"
      },
      "source": [
        "def extract_salary(item):\n",
        "  try:\n",
        "    salary = item.find('td', 'Ta(end)')\n",
        "    salary = salary.text \n",
        "    if salary[-1] == \"M\":\n",
        "      salary = float(salary[:-1])*1000000\n",
        "    else:\n",
        "      salary = float(salary[:-1])*1000\n",
        "  except ValueError:\n",
        "    salary = 'N/A'\n",
        "  return salary"
      ],
      "execution_count": null,
      "outputs": []
    },
    {
      "cell_type": "code",
      "metadata": {
        "id": "mCckedReVgf6"
      },
      "source": [
        "extract_salary(table[6])"
      ],
      "execution_count": null,
      "outputs": []
    },
    {
      "cell_type": "code",
      "metadata": {
        "id": "T7GKSILQblSR"
      },
      "source": [
        "def extract_title(item):\n",
        "  title = item.find('td', 'Ta(start) W(45%)')\n",
        "  title = title.text\n",
        "  return title"
      ],
      "execution_count": null,
      "outputs": []
    },
    {
      "cell_type": "code",
      "metadata": {
        "id": "f_4sYejzOdbq"
      },
      "source": [
        "def calculate_tax(income):\n",
        "  try:\n",
        "    if income <= 18200:\n",
        "      tax_payable = 0\n",
        "    elif 18200 < income <= 45000:\n",
        "      tax_payable = (income - 18200) * 0.19\n",
        "    elif 45000 < income <= 120000:\n",
        "      tax_payable = 5092 + 0.325 * (income - 45000)\n",
        "    elif 120000 < income <= 180000:\n",
        "      tax_payable = 29467 + 0.37 * (income - 120000)\n",
        "    elif income > 180000:\n",
        "      tax_payable = 51667 + 0.45 * (income - 180000)\n",
        "  except TypeError:\n",
        "      tax_payable = 'N/A'\n",
        "  return tax_payable"
      ],
      "execution_count": null,
      "outputs": []
    },
    {
      "cell_type": "code",
      "metadata": {
        "id": "35SFG-BzaQR_"
      },
      "source": [
        "def extract_record(item):\n",
        "  return {\n",
        "      'Name': extract_name(item),\n",
        "      'Title': extract_title(item),\n",
        "      'Salary': extract_salary(item),\n",
        "      'Expected income tax': calculate_tax(extract_salary(item))\n",
        "  }"
      ],
      "execution_count": null,
      "outputs": []
    },
    {
      "cell_type": "code",
      "metadata": {
        "id": "bSQpoFHMYUgW"
      },
      "source": [
        "for i in table:\n",
        "  print(extract_name(i))"
      ],
      "execution_count": null,
      "outputs": []
    },
    {
      "cell_type": "code",
      "metadata": {
        "id": "z62fa8DqY2Mg"
      },
      "source": [
        "records = []\n",
        "for i in table:\n",
        "  records.append(extract_record(i))"
      ],
      "execution_count": null,
      "outputs": []
    },
    {
      "cell_type": "code",
      "metadata": {
        "id": "C8gofeS3ZDrD"
      },
      "source": [
        "df = pd.DataFrame.from_records(records)\n",
        "df"
      ],
      "execution_count": null,
      "outputs": []
    },
    {
      "cell_type": "code",
      "metadata": {
        "id": "GMSCJ6VKNvBr",
        "outputId": "b50ddff7-c006-4f86-b051-041f83133bcd",
        "colab": {
          "base_uri": "https://localhost:8080/",
          "height": 122
        }
      },
      "source": [
        "#store data\n",
        "place = input('''Where do you want to store the data? \n",
        "Press 1 for cvs file,\n",
        "Press 2 for data,\n",
        "Press 3 for both.\n",
        "''')\n",
        "\n",
        "place"
      ],
      "execution_count": 11,
      "outputs": [
        {
          "name": "stdout",
          "output_type": "stream",
          "text": [
            "Where do you want to store the data? \n",
            "Press 1 for cvs file,\n",
            "Press 2 for data,\n",
            "Press 3 for both.\n",
            "1\n"
          ]
        },
        {
          "output_type": "execute_result",
          "data": {
            "application/vnd.google.colaboratory.intrinsic+json": {
              "type": "string"
            },
            "text/plain": [
              "'1'"
            ]
          },
          "metadata": {},
          "execution_count": 11
        }
      ]
    },
    {
      "cell_type": "markdown",
      "metadata": {
        "id": "DP6s3I-tbHNH"
      },
      "source": [
        "#4. Putting it together"
      ]
    },
    {
      "cell_type": "code",
      "metadata": {
        "id": "QphhzCIdQKs_"
      },
      "source": [
        "!pip install kora -q\n",
        "'''load packages'''\n",
        "import requests\n",
        "from bs4 import BeautifulSoup\n",
        "from kora.selenium import wd\n",
        "import pandas as pd\n",
        "\n",
        "def get_url(ticker):\n",
        "  template = 'https://au.finance.yahoo.com/quote/{ticker1}/profile?p={ticker2}'\n",
        "  url = template.format(ticker1 = ticker, ticker2 = ticker)\n",
        "  return url\n",
        "\n",
        "def extract_name(item):\n",
        "  name = item.td.text\n",
        "  return name\n",
        "\n",
        "def extract_title(item):\n",
        "  title = item.find('td', 'Ta(start) W(45%)')\n",
        "  title = title.text\n",
        "  return title\n",
        "\n",
        "def extract_salary(item):\n",
        "  try:\n",
        "    salary = item.find('td', 'Ta(end)')\n",
        "    salary = salary.text\n",
        "    if salary[-1] == \"M\":\n",
        "      salary = float(salary[:-1])*1000000\n",
        "    else:\n",
        "      salary = float(salary[:-1])*1000 \n",
        "  except ValueError:\n",
        "    salary = 0\n",
        "  return salary\n",
        "\n",
        "def calculate_tax(income):\n",
        "  try:\n",
        "    if income <= 18200:\n",
        "      tax_payable = 0\n",
        "    elif 18200 < income <= 45000:\n",
        "      tax_payable = (income - 18200) * 0.19\n",
        "    elif 45000 < income <= 120000:\n",
        "      tax_payable = 5092 + 0.325 * (income - 45000)\n",
        "    elif 120000 < income <= 180000:\n",
        "      tax_payable = 29467 + 0.37 * (income - 120000)\n",
        "    elif income > 180000:\n",
        "      tax_payable = 51667 + 0.45 * (income - 180000)\n",
        "  except TypeError:\n",
        "      tax_payable = 0\n",
        "  return tax_payable\n",
        "\n",
        "def extract_record(item):\n",
        "  return {\n",
        "      'Name': extract_name(item),\n",
        "      'Title': extract_title(item),\n",
        "      'Salary': extract_salary(item),\n",
        "      'Expected income tax': calculate_tax(extract_salary(item))\n",
        "  }\n",
        "\n",
        "def ticker_validation(dataframe):\n",
        "  while True:\n",
        "    if dataframe.empty:\n",
        "      print('No information under this ticker. Please enter a valid ticker.')\n",
        "      ticker = get_input()\n",
        "      url = get_url(ticker)\n",
        "      wd.get(url)\n",
        "      soup = BeautifulSoup(wd.page_source, 'html.parser')\n",
        "      records = []\n",
        "      table = soup.find_all('tr', {'class': 'C($primaryColor) BdB Bdc($seperatorColor) H(36px)'})\n",
        "      for i in table:\n",
        "        records.append(extract_record(i))   \n",
        "      dataframe = pd.DataFrame.from_records(records)\n",
        "    else: \n",
        "      break\n",
        "  return dataframe\n",
        "\n",
        "def get_input():\n",
        "  while True:\n",
        "    ticker = input('''Please enter an Australian stock market ticker symbol: ''')\n",
        "    if ticker[-3:] == '.ax' or ticker[-3:] == '.AX':\n",
        "      ticker = ticker\n",
        "      break\n",
        "    else:\n",
        "      print('Please enter an Australian ticker.')\n",
        "  return ticker"
      ],
      "execution_count": 12,
      "outputs": []
    },
    {
      "cell_type": "code",
      "metadata": {
        "id": "Uuqcp8OgQqOC",
        "colab": {
          "base_uri": "https://localhost:8080/",
          "height": 376
        },
        "outputId": "5b2ed8e8-04f3-4dcf-e43f-0026963dbdf4"
      },
      "source": [
        "ticker = get_input()\n",
        "url = get_url(ticker)\n",
        "wd.get(url)\n",
        "soup = BeautifulSoup(wd.page_source, 'html.parser')\n",
        "records = []\n",
        "table = soup.find_all('tr', {'class': 'C($primaryColor) BdB Bdc($seperatorColor) H(36px)'})\n",
        "\n",
        "for i in table:\n",
        "  records.append(extract_record(i))\n",
        "\n",
        "df = pd.DataFrame.from_records(records)\n",
        "df = ticker_validation(df)\n",
        "df"
      ],
      "execution_count": 13,
      "outputs": [
        {
          "name": "stdout",
          "output_type": "stream",
          "text": [
            "Please enter an Australian stock market ticker symbol: nab.ax\n"
          ]
        },
        {
          "output_type": "execute_result",
          "data": {
            "text/html": [
              "<div>\n",
              "<style scoped>\n",
              "    .dataframe tbody tr th:only-of-type {\n",
              "        vertical-align: middle;\n",
              "    }\n",
              "\n",
              "    .dataframe tbody tr th {\n",
              "        vertical-align: top;\n",
              "    }\n",
              "\n",
              "    .dataframe thead th {\n",
              "        text-align: right;\n",
              "    }\n",
              "</style>\n",
              "<table border=\"1\" class=\"dataframe\">\n",
              "  <thead>\n",
              "    <tr style=\"text-align: right;\">\n",
              "      <th></th>\n",
              "      <th>Name</th>\n",
              "      <th>Title</th>\n",
              "      <th>Salary</th>\n",
              "      <th>Expected income tax</th>\n",
              "    </tr>\n",
              "  </thead>\n",
              "  <tbody>\n",
              "    <tr>\n",
              "      <th>0</th>\n",
              "      <td>Mr. Ross Maxwell McEwan CBE, B.B.S.</td>\n",
              "      <td>Group CEO, MD &amp; Director</td>\n",
              "      <td>2540000.0</td>\n",
              "      <td>1113667.0</td>\n",
              "    </tr>\n",
              "    <tr>\n",
              "      <th>1</th>\n",
              "      <td>Mr. Gary Andrew Lennon BEC, F.C.A., BEc (Hons)...</td>\n",
              "      <td>Group Chief Financial Officer</td>\n",
              "      <td>1130000.0</td>\n",
              "      <td>479167.0</td>\n",
              "    </tr>\n",
              "    <tr>\n",
              "      <th>2</th>\n",
              "      <td>Mr. Patrick F. Wright</td>\n",
              "      <td>Group Exec. of Technology &amp; Enterprise Operations</td>\n",
              "      <td>1720000.0</td>\n",
              "      <td>744667.0</td>\n",
              "    </tr>\n",
              "    <tr>\n",
              "      <th>3</th>\n",
              "      <td>Ms. Sharon J. Cook</td>\n",
              "      <td>Group Exec. of Legal &amp; Commercial Services</td>\n",
              "      <td>912980.0</td>\n",
              "      <td>381508.0</td>\n",
              "    </tr>\n",
              "    <tr>\n",
              "      <th>4</th>\n",
              "      <td>Ms. Susan  Ferrier</td>\n",
              "      <td>Group Exec. of People &amp; Culture</td>\n",
              "      <td>929270.0</td>\n",
              "      <td>388838.5</td>\n",
              "    </tr>\n",
              "    <tr>\n",
              "      <th>5</th>\n",
              "      <td>Ms. Angela  Mentis B.Bus</td>\n",
              "      <td>Group Chief Digital, Data &amp; Analytics Officer</td>\n",
              "      <td>1620000.0</td>\n",
              "      <td>699667.0</td>\n",
              "    </tr>\n",
              "    <tr>\n",
              "      <th>6</th>\n",
              "      <td>Mr. Shaun  Dooley</td>\n",
              "      <td>Chief Risk Officer</td>\n",
              "      <td>1050000.0</td>\n",
              "      <td>443167.0</td>\n",
              "    </tr>\n",
              "    <tr>\n",
              "      <th>7</th>\n",
              "      <td>Mr. Andrew  Irvine</td>\n",
              "      <td>Chief Exec. of Bus. Private Banking Division</td>\n",
              "      <td>333270.0</td>\n",
              "      <td>120638.5</td>\n",
              "    </tr>\n",
              "    <tr>\n",
              "      <th>8</th>\n",
              "      <td>Mr. Lesile D. Matheson</td>\n",
              "      <td>Group Chief Operating Officer</td>\n",
              "      <td>0.0</td>\n",
              "      <td>0.0</td>\n",
              "    </tr>\n",
              "    <tr>\n",
              "      <th>9</th>\n",
              "      <td>Ms. Sally  Mihell</td>\n",
              "      <td>Head of Investor Relations</td>\n",
              "      <td>0.0</td>\n",
              "      <td>0.0</td>\n",
              "    </tr>\n",
              "  </tbody>\n",
              "</table>\n",
              "</div>"
            ],
            "text/plain": [
              "                                                Name  ... Expected income tax\n",
              "0                Mr. Ross Maxwell McEwan CBE, B.B.S.  ...           1113667.0\n",
              "1  Mr. Gary Andrew Lennon BEC, F.C.A., BEc (Hons)...  ...            479167.0\n",
              "2                              Mr. Patrick F. Wright  ...            744667.0\n",
              "3                                 Ms. Sharon J. Cook  ...            381508.0\n",
              "4                                 Ms. Susan  Ferrier  ...            388838.5\n",
              "5                           Ms. Angela  Mentis B.Bus  ...            699667.0\n",
              "6                                  Mr. Shaun  Dooley  ...            443167.0\n",
              "7                                 Mr. Andrew  Irvine  ...            120638.5\n",
              "8                             Mr. Lesile D. Matheson  ...                 0.0\n",
              "9                                  Ms. Sally  Mihell  ...                 0.0\n",
              "\n",
              "[10 rows x 4 columns]"
            ]
          },
          "metadata": {},
          "execution_count": 13
        }
      ]
    }
  ]
}