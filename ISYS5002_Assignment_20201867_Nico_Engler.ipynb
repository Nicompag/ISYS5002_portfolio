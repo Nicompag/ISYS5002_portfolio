{
  "nbformat": 4,
  "nbformat_minor": 0,
  "metadata": {
    "colab": {
      "name": "ISYS5002_Assignment_20201867_Nico_Engler.ipynb",
      "provenance": [],
      "authorship_tag": "ABX9TyNvXvWDaKFj2yRkK4jtDGLk",
      "include_colab_link": true
    },
    "kernelspec": {
      "name": "python3",
      "display_name": "Python 3"
    },
    "language_info": {
      "name": "python"
    }
  },
  "cells": [
    {
      "cell_type": "markdown",
      "metadata": {
        "id": "view-in-github",
        "colab_type": "text"
      },
      "source": [
        "<a href=\"https://colab.research.google.com/github/Nicompag/ISYS5002_portfolio/blob/main/ISYS5002_Assignment_20201867_Nico_Engler.ipynb\" target=\"_parent\"><img src=\"https://colab.research.google.com/assets/colab-badge.svg\" alt=\"Open In Colab\"/></a>"
      ]
    },
    {
      "cell_type": "markdown",
      "metadata": {
        "id": "3FI4eibyKZbc"
      },
      "source": [
        "#Import Modules"
      ]
    },
    {
      "cell_type": "code",
      "metadata": {
        "id": "Bj2nUsH4KW_N"
      },
      "source": [
        "#!pip install yfinance\n",
        "#import yfinance as yfin\n",
        "#yfin.pdr_override()\n",
        "!pip install kora -q\n",
        "'''load packages'''\n",
        "import requests\n",
        "from bs4 import BeautifulSoup\n",
        "from kora.selenium import wd\n",
        "import pandas as pd\n"
      ],
      "execution_count": 60,
      "outputs": []
    },
    {
      "cell_type": "markdown",
      "metadata": {
        "id": "5Qnp2n3YGIiD"
      },
      "source": [
        "#1. Get Input"
      ]
    },
    {
      "cell_type": "code",
      "metadata": {
        "colab": {
          "base_uri": "https://localhost:8080/"
        },
        "id": "_z5oq1EPGNRE",
        "outputId": "3b9c64e3-911d-44d6-b269-ea8f7d523027"
      },
      "source": [
        "ticker = input('''Please enter the company's stock market ticker symbol: ''')\n",
        "\n",
        "# Input validation\n",
        "#if ticker.isdigit() == True:\n",
        "#  print('Please enter a valid stock market ticker symbol!')\n",
        "\n"
      ],
      "execution_count": 61,
      "outputs": [
        {
          "name": "stdout",
          "output_type": "stream",
          "text": [
            "Please enter the company's stock market ticker symbol: MSFT\n"
          ]
        }
      ]
    },
    {
      "cell_type": "markdown",
      "metadata": {
        "id": "tA3aGE2eNi3-"
      },
      "source": [
        "#2. Get Data"
      ]
    },
    {
      "cell_type": "code",
      "metadata": {
        "id": "wmvP8QX_Nksq"
      },
      "source": [
        "# Establish Session\n",
        "url = 'https://au.finance.yahoo.com/'\n",
        "wd.get(url)"
      ],
      "execution_count": 62,
      "outputs": []
    },
    {
      "cell_type": "code",
      "metadata": {
        "id": "AxPV26TfNpmA"
      },
      "source": [
        "# Work out URL pattern\n",
        "template = 'https://au.finance.yahoo.com/quote/{ticker1}/profile?p={ticker2}'\n",
        "\n",
        "url = template.format(ticker1 = ticker, ticker2 = ticker)\n",
        "wd.get(url)"
      ],
      "execution_count": 63,
      "outputs": []
    },
    {
      "cell_type": "code",
      "metadata": {
        "id": "SYWE7OH5OKfH"
      },
      "source": [
        "def get_url(ticker):\n",
        "  template = 'https://au.finance.yahoo.com/quote/{ticker1}/profile?p={ticker2}'\n",
        "  url = template.format(ticker1 = ticker, ticker2 = ticker)\n",
        "\n",
        "  return url"
      ],
      "execution_count": 64,
      "outputs": []
    },
    {
      "cell_type": "code",
      "metadata": {
        "id": "-JayQxBqPb3M"
      },
      "source": [
        "soup = BeautifulSoup(wd.page_source, 'html.parser')"
      ],
      "execution_count": 65,
      "outputs": []
    },
    {
      "cell_type": "markdown",
      "metadata": {
        "id": "9A9mcVDePjpb"
      },
      "source": [
        "#3. Extract Collection"
      ]
    },
    {
      "cell_type": "code",
      "metadata": {
        "colab": {
          "base_uri": "https://localhost:8080/",
          "height": 37
        },
        "id": "X38o2huQPg7r",
        "outputId": "0f721795-6f90-4a31-d23e-5c824ccc0627"
      },
      "source": [
        "table = soup.find_all('tr', {'class': 'C($primaryColor) BdB Bdc($seperatorColor) H(36px)'})\n",
        "table[4].td.text"
      ],
      "execution_count": 66,
      "outputs": [
        {
          "output_type": "execute_result",
          "data": {
            "application/vnd.google.colaboratory.intrinsic+json": {
              "type": "string"
            },
            "text/plain": [
              "'Brett  Iversen'"
            ]
          },
          "metadata": {},
          "execution_count": 66
        }
      ]
    },
    {
      "cell_type": "code",
      "metadata": {
        "id": "XBfBoxGzQ6N2"
      },
      "source": [
        "def extract_name(item):\n",
        "  name = item.td.text\n",
        "  return name"
      ],
      "execution_count": 67,
      "outputs": []
    },
    {
      "cell_type": "code",
      "metadata": {
        "colab": {
          "base_uri": "https://localhost:8080/",
          "height": 37
        },
        "id": "3kzvfygBSvEy",
        "outputId": "51131dd6-a69c-4f85-8be4-19f239d05739"
      },
      "source": [
        "item = table[0]\n",
        "salary = item.find('td', 'Ta(end)')\n",
        "salary = salary.text\n",
        "\n",
        "salary[-1]"
      ],
      "execution_count": 68,
      "outputs": [
        {
          "output_type": "execute_result",
          "data": {
            "application/vnd.google.colaboratory.intrinsic+json": {
              "type": "string"
            },
            "text/plain": [
              "'M'"
            ]
          },
          "metadata": {},
          "execution_count": 68
        }
      ]
    },
    {
      "cell_type": "code",
      "metadata": {
        "id": "HIjZS_SPTxt3"
      },
      "source": [
        "def extract_salary(item):\n",
        "  try:\n",
        "    salary = item.find('td', 'Ta(end)')\n",
        "    salary = salary.text \n",
        "    if salary[-1] == \"M\":\n",
        "      salary = float(salary[:-1])*1000000\n",
        "    else:\n",
        "      salary = float(salary[:-1])*1000\n",
        "  except ValueError:\n",
        "    salary = 'N/A'\n",
        "  return salary"
      ],
      "execution_count": 81,
      "outputs": []
    },
    {
      "cell_type": "code",
      "metadata": {
        "colab": {
          "base_uri": "https://localhost:8080/",
          "height": 37
        },
        "id": "mCckedReVgf6",
        "outputId": "b8b1c12b-4d4e-4ad0-a94a-168d1359bc5e"
      },
      "source": [
        "extract_salary(table[6])"
      ],
      "execution_count": 83,
      "outputs": [
        {
          "output_type": "execute_result",
          "data": {
            "application/vnd.google.colaboratory.intrinsic+json": {
              "type": "string"
            },
            "text/plain": [
              "'N/A'"
            ]
          },
          "metadata": {},
          "execution_count": 83
        }
      ]
    },
    {
      "cell_type": "code",
      "metadata": {
        "id": "T7GKSILQblSR"
      },
      "source": [
        "def extract_title(item):\n",
        "  title = item.find('td', 'Ta(start) W(45%)')\n",
        "  title = title.text\n",
        "  return title"
      ],
      "execution_count": 84,
      "outputs": []
    },
    {
      "cell_type": "code",
      "metadata": {
        "id": "f_4sYejzOdbq"
      },
      "source": [
        "def calculate_tax(income):\n",
        "  try:\n",
        "    if income <= 18200:\n",
        "      tax_payable = 0\n",
        "    elif 18200 < income <= 45000:\n",
        "      tax_payable = (income - 18200) * 0.19\n",
        "    elif 45000 < income <= 120000:\n",
        "      tax_payable = 5092 + 0.325 * (income - 45000)\n",
        "    elif 120000 < income <= 180000:\n",
        "      tax_payable = 29467 + 0.37 * (income - 120000)\n",
        "    elif income > 180000:\n",
        "      tax_payable = 51667 + 0.45 * (income - 180000)\n",
        "  except TypeError:\n",
        "      tax_payable = 'N/A'\n",
        "  return tax_payable"
      ],
      "execution_count": 124,
      "outputs": []
    },
    {
      "cell_type": "code",
      "metadata": {
        "id": "35SFG-BzaQR_"
      },
      "source": [
        "def extract_record(item):\n",
        "  return {\n",
        "      'Name': extract_name(item),\n",
        "      'Title': extract_title(item),\n",
        "      'Salary': extract_salary(item),\n",
        "      'Expected income tax': calculate_tax(extract_salary(item))\n",
        "  }"
      ],
      "execution_count": 125,
      "outputs": []
    },
    {
      "cell_type": "code",
      "metadata": {
        "colab": {
          "base_uri": "https://localhost:8080/"
        },
        "id": "bSQpoFHMYUgW",
        "outputId": "576b5a42-facf-455c-eae9-8c9ff4be60c2"
      },
      "source": [
        "for i in table:\n",
        "  print(extract_name(i))"
      ],
      "execution_count": 126,
      "outputs": [
        {
          "output_type": "stream",
          "name": "stdout",
          "text": [
            "Mr. Satya  Nadella\n",
            "Mr. Bradford L. Smith LCA\n",
            "Ms. Amy E. Hood\n",
            "Ms. Alice L. Jolla\n",
            "Brett  Iversen\n",
            "Mr. Frank X. Shaw\n",
            "Mr. Christopher C. Capossela\n",
            "Mr. Keith Ranger Dolliver Esq.\n",
            "Ms. Kathleen T. Hogan\n",
            "Mr. Ali Mohamed El Faramawy\n"
          ]
        }
      ]
    },
    {
      "cell_type": "code",
      "metadata": {
        "id": "z62fa8DqY2Mg"
      },
      "source": [
        "records = []\n",
        "for i in table:\n",
        "  records.append(extract_record(i))"
      ],
      "execution_count": 127,
      "outputs": []
    },
    {
      "cell_type": "code",
      "metadata": {
        "colab": {
          "base_uri": "https://localhost:8080/",
          "height": 359
        },
        "id": "C8gofeS3ZDrD",
        "outputId": "3523248e-461a-4200-f8ad-7ad7113cd97f"
      },
      "source": [
        "df = pd.DataFrame.from_records(records)\n",
        "df"
      ],
      "execution_count": 128,
      "outputs": [
        {
          "output_type": "execute_result",
          "data": {
            "text/html": [
              "<div>\n",
              "<style scoped>\n",
              "    .dataframe tbody tr th:only-of-type {\n",
              "        vertical-align: middle;\n",
              "    }\n",
              "\n",
              "    .dataframe tbody tr th {\n",
              "        vertical-align: top;\n",
              "    }\n",
              "\n",
              "    .dataframe thead th {\n",
              "        text-align: right;\n",
              "    }\n",
              "</style>\n",
              "<table border=\"1\" class=\"dataframe\">\n",
              "  <thead>\n",
              "    <tr style=\"text-align: right;\">\n",
              "      <th></th>\n",
              "      <th>Name</th>\n",
              "      <th>Title</th>\n",
              "      <th>Salary</th>\n",
              "      <th>Expected income tax</th>\n",
              "    </tr>\n",
              "  </thead>\n",
              "  <tbody>\n",
              "    <tr>\n",
              "      <th>0</th>\n",
              "      <td>Mr. Satya  Nadella</td>\n",
              "      <td>Chairman &amp; CEO</td>\n",
              "      <td>1.36e+07</td>\n",
              "      <td>6.09067e+06</td>\n",
              "    </tr>\n",
              "    <tr>\n",
              "      <th>1</th>\n",
              "      <td>Mr. Bradford L. Smith LCA</td>\n",
              "      <td>Pres, Chief Legal Officer &amp; Vice Chairman</td>\n",
              "      <td>4.27e+06</td>\n",
              "      <td>1.89217e+06</td>\n",
              "    </tr>\n",
              "    <tr>\n",
              "      <th>2</th>\n",
              "      <td>Ms. Amy E. Hood</td>\n",
              "      <td>Exec. VP &amp; CFO</td>\n",
              "      <td>4.83e+06</td>\n",
              "      <td>2.14417e+06</td>\n",
              "    </tr>\n",
              "    <tr>\n",
              "      <th>3</th>\n",
              "      <td>Ms. Alice L. Jolla</td>\n",
              "      <td>Corp. VP of Fin. &amp; Admin. and Chief Accounting...</td>\n",
              "      <td>N/A</td>\n",
              "      <td>N/A</td>\n",
              "    </tr>\n",
              "    <tr>\n",
              "      <th>4</th>\n",
              "      <td>Brett  Iversen</td>\n",
              "      <td>Gen. Mang. of Investor Relations</td>\n",
              "      <td>N/A</td>\n",
              "      <td>N/A</td>\n",
              "    </tr>\n",
              "    <tr>\n",
              "      <th>5</th>\n",
              "      <td>Mr. Frank X. Shaw</td>\n",
              "      <td>Corp. VP for Corp. Communications</td>\n",
              "      <td>N/A</td>\n",
              "      <td>N/A</td>\n",
              "    </tr>\n",
              "    <tr>\n",
              "      <th>6</th>\n",
              "      <td>Mr. Christopher C. Capossela</td>\n",
              "      <td>Exec. VP of Marketing &amp; Consumer Bus. and Chie...</td>\n",
              "      <td>N/A</td>\n",
              "      <td>N/A</td>\n",
              "    </tr>\n",
              "    <tr>\n",
              "      <th>7</th>\n",
              "      <td>Mr. Keith Ranger Dolliver Esq.</td>\n",
              "      <td>VP, Deputy Gen. Counsel of Corp., External &amp; L...</td>\n",
              "      <td>N/A</td>\n",
              "      <td>N/A</td>\n",
              "    </tr>\n",
              "    <tr>\n",
              "      <th>8</th>\n",
              "      <td>Ms. Kathleen T. Hogan</td>\n",
              "      <td>Exec. VP &amp; Chief HR Officer</td>\n",
              "      <td>N/A</td>\n",
              "      <td>N/A</td>\n",
              "    </tr>\n",
              "    <tr>\n",
              "      <th>9</th>\n",
              "      <td>Mr. Ali Mohamed El Faramawy</td>\n",
              "      <td>Head of The Emerging Markets Digital Transform...</td>\n",
              "      <td>N/A</td>\n",
              "      <td>N/A</td>\n",
              "    </tr>\n",
              "  </tbody>\n",
              "</table>\n",
              "</div>"
            ],
            "text/plain": [
              "                             Name  ... Expected income tax\n",
              "0              Mr. Satya  Nadella  ...         6.09067e+06\n",
              "1       Mr. Bradford L. Smith LCA  ...         1.89217e+06\n",
              "2                 Ms. Amy E. Hood  ...         2.14417e+06\n",
              "3              Ms. Alice L. Jolla  ...                 N/A\n",
              "4                  Brett  Iversen  ...                 N/A\n",
              "5               Mr. Frank X. Shaw  ...                 N/A\n",
              "6    Mr. Christopher C. Capossela  ...                 N/A\n",
              "7  Mr. Keith Ranger Dolliver Esq.  ...                 N/A\n",
              "8           Ms. Kathleen T. Hogan  ...                 N/A\n",
              "9     Mr. Ali Mohamed El Faramawy  ...                 N/A\n",
              "\n",
              "[10 rows x 4 columns]"
            ]
          },
          "metadata": {},
          "execution_count": 128
        }
      ]
    },
    {
      "cell_type": "markdown",
      "metadata": {
        "id": "DP6s3I-tbHNH"
      },
      "source": [
        "#4. Putting it together"
      ]
    },
    {
      "cell_type": "code",
      "metadata": {
        "id": "QphhzCIdQKs_"
      },
      "source": [
        "!pip install kora -q\n",
        "'''load packages'''\n",
        "import requests\n",
        "from bs4 import BeautifulSoup\n",
        "from kora.selenium import wd\n",
        "import pandas as pd\n",
        "\n",
        "def get_url(ticker):\n",
        "  template = 'https://au.finance.yahoo.com/quote/{ticker1}/profile?p={ticker2}'\n",
        "  url = template.format(ticker1 = ticker, ticker2 = ticker)\n",
        "  return url\n",
        "\n",
        "def extract_name(item):\n",
        "  name = item.td.text\n",
        "  return name\n",
        "\n",
        "def extract_title(item):\n",
        "  title = item.find('td', 'Ta(start) W(45%)')\n",
        "  title = title.text\n",
        "  return title\n",
        "\n",
        "def extract_salary(item):\n",
        "  try:\n",
        "    salary = item.find('td', 'Ta(end)')\n",
        "    salary = salary.text \n",
        "    if salary[-1] == \"M\":\n",
        "      salary = float(salary[:-1])*1000000\n",
        "    else:\n",
        "      salary = float(salary[:-1])*1000\n",
        "  except ValueError:\n",
        "    salary = 'N/A'\n",
        "  return salary\n",
        "\n",
        "def calculate_tax(income):\n",
        "  try:\n",
        "    if income <= 18200:\n",
        "      tax_payable = 0\n",
        "    elif 18200 < income <= 45000:\n",
        "      tax_payable = (income - 18200) * 0.19\n",
        "    elif 45000 < income <= 120000:\n",
        "      tax_payable = 5092 + 0.325 * (income - 45000)\n",
        "    elif 120000 < income <= 180000:\n",
        "      tax_payable = 29467 + 0.37 * (income - 120000)\n",
        "    elif income > 180000:\n",
        "      tax_payable = 51667 + 0.45 * (income - 180000)\n",
        "  except TypeError:\n",
        "      tax_payable = 'N/A'\n",
        "  return tax_payable\n",
        "\n",
        "def extract_record(item):\n",
        "  return {\n",
        "      'Name': extract_name(item),\n",
        "      'Title': extract_title(item),\n",
        "      'Salary': extract_salary(item),\n",
        "      'Expected income tax': calculate_tax(extract_salary(item))\n",
        "  }\n",
        "\n",
        "def ticker_validation(dataframe):\n",
        "  if dataframe.empty == True:\n",
        "    print('Please enter a valid ticker.')"
      ],
      "execution_count": 24,
      "outputs": []
    },
    {
      "cell_type": "code",
      "metadata": {
        "id": "Uuqcp8OgQqOC",
        "outputId": "5c9488f7-f56d-4c14-da87-56fedd0bd3da",
        "colab": {
          "base_uri": "https://localhost:8080/",
          "height": 376
        }
      },
      "source": [
        "ticker = input('''Please enter the company's stock market ticker symbol: ''')\n",
        "url = get_url(ticker)\n",
        "wd.get(url)\n",
        "soup = BeautifulSoup(wd.page_source, 'html.parser')\n",
        "records = []\n",
        "table = soup.find_all('tr', {'class': 'C($primaryColor) BdB Bdc($seperatorColor) H(36px)'})\n",
        "\n",
        "for i in table:\n",
        "  records.append(extract_record(i))\n",
        "\n",
        "df = pd.DataFrame.from_records(records)\n",
        "ticker_validation(df)\n",
        "df"
      ],
      "execution_count": 30,
      "outputs": [
        {
          "name": "stdout",
          "output_type": "stream",
          "text": [
            "Please enter the company's stock market ticker symbol: TAH.AX\n"
          ]
        },
        {
          "output_type": "execute_result",
          "data": {
            "text/html": [
              "<div>\n",
              "<style scoped>\n",
              "    .dataframe tbody tr th:only-of-type {\n",
              "        vertical-align: middle;\n",
              "    }\n",
              "\n",
              "    .dataframe tbody tr th {\n",
              "        vertical-align: top;\n",
              "    }\n",
              "\n",
              "    .dataframe thead th {\n",
              "        text-align: right;\n",
              "    }\n",
              "</style>\n",
              "<table border=\"1\" class=\"dataframe\">\n",
              "  <thead>\n",
              "    <tr style=\"text-align: right;\">\n",
              "      <th></th>\n",
              "      <th>Name</th>\n",
              "      <th>Title</th>\n",
              "      <th>Salary</th>\n",
              "      <th>Expected income tax</th>\n",
              "    </tr>\n",
              "  </thead>\n",
              "  <tbody>\n",
              "    <tr>\n",
              "      <th>0</th>\n",
              "      <td>Mr. David Robert Henry Attenborough BSc, MBA</td>\n",
              "      <td>MD, CEO &amp; Exec. Director</td>\n",
              "      <td>2.94e+06</td>\n",
              "      <td>1.29367e+06</td>\n",
              "    </tr>\n",
              "    <tr>\n",
              "      <th>1</th>\n",
              "      <td>Mr. Adam  Newman</td>\n",
              "      <td>Chief Financial Officer</td>\n",
              "      <td>1.18e+06</td>\n",
              "      <td>501667</td>\n",
              "    </tr>\n",
              "    <tr>\n",
              "      <th>2</th>\n",
              "      <td>Mr. Patrick J. McGlinchey</td>\n",
              "      <td>Chief Legal &amp; Risk Officer and Co-Company Sec.</td>\n",
              "      <td>853000</td>\n",
              "      <td>354517</td>\n",
              "    </tr>\n",
              "    <tr>\n",
              "      <th>3</th>\n",
              "      <td>Mr. Adam  Rytenskild</td>\n",
              "      <td>Managing Director of Wagering &amp; Media</td>\n",
              "      <td>1.26e+06</td>\n",
              "      <td>537667</td>\n",
              "    </tr>\n",
              "    <tr>\n",
              "      <th>4</th>\n",
              "      <td>Ms. Sue  van der Merwe</td>\n",
              "      <td>Managing Director of Lotteries &amp; Keno</td>\n",
              "      <td>1.11e+06</td>\n",
              "      <td>470167</td>\n",
              "    </tr>\n",
              "    <tr>\n",
              "      <th>5</th>\n",
              "      <td>Ms. Francoise  Russo</td>\n",
              "      <td>Chief Information Officer</td>\n",
              "      <td>N/A</td>\n",
              "      <td>N/A</td>\n",
              "    </tr>\n",
              "    <tr>\n",
              "      <th>6</th>\n",
              "      <td>Mr. Chris  Richardson</td>\n",
              "      <td>Gen. Mang. of Investor Relations &amp; Treasury</td>\n",
              "      <td>N/A</td>\n",
              "      <td>N/A</td>\n",
              "    </tr>\n",
              "    <tr>\n",
              "      <th>7</th>\n",
              "      <td>Mr. Nicholas  Tzaferis</td>\n",
              "      <td>Gen. Mang. of Corp. Communications</td>\n",
              "      <td>N/A</td>\n",
              "      <td>N/A</td>\n",
              "    </tr>\n",
              "    <tr>\n",
              "      <th>8</th>\n",
              "      <td>Ms. Michelle  Williams</td>\n",
              "      <td>Chief People Officer</td>\n",
              "      <td>N/A</td>\n",
              "      <td>N/A</td>\n",
              "    </tr>\n",
              "    <tr>\n",
              "      <th>9</th>\n",
              "      <td>Mr. Ben  Simons</td>\n",
              "      <td>Chief Strategy Officer</td>\n",
              "      <td>N/A</td>\n",
              "      <td>N/A</td>\n",
              "    </tr>\n",
              "  </tbody>\n",
              "</table>\n",
              "</div>"
            ],
            "text/plain": [
              "                                           Name  ... Expected income tax\n",
              "0  Mr. David Robert Henry Attenborough BSc, MBA  ...         1.29367e+06\n",
              "1                              Mr. Adam  Newman  ...              501667\n",
              "2                     Mr. Patrick J. McGlinchey  ...              354517\n",
              "3                          Mr. Adam  Rytenskild  ...              537667\n",
              "4                        Ms. Sue  van der Merwe  ...              470167\n",
              "5                          Ms. Francoise  Russo  ...                 N/A\n",
              "6                         Mr. Chris  Richardson  ...                 N/A\n",
              "7                        Mr. Nicholas  Tzaferis  ...                 N/A\n",
              "8                        Ms. Michelle  Williams  ...                 N/A\n",
              "9                               Mr. Ben  Simons  ...                 N/A\n",
              "\n",
              "[10 rows x 4 columns]"
            ]
          },
          "metadata": {},
          "execution_count": 30
        }
      ]
    }
  ]
}