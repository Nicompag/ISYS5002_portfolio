{
  "nbformat": 4,
  "nbformat_minor": 0,
  "metadata": {
    "colab": {
      "name": "tax_calculation.ipynb",
      "provenance": [],
      "include_colab_link": true
    },
    "kernelspec": {
      "name": "python3",
      "display_name": "Python 3"
    },
    "language_info": {
      "name": "python"
    }
  },
  "cells": [
    {
      "cell_type": "markdown",
      "metadata": {
        "id": "view-in-github",
        "colab_type": "text"
      },
      "source": [
        "<a href=\"https://colab.research.google.com/github/Nicompag/ISYS5002_portfolio/blob/main/tax_calculation.ipynb\" target=\"_parent\"><img src=\"https://colab.research.google.com/assets/colab-badge.svg\" alt=\"Open In Colab\"/></a>"
      ]
    },
    {
      "cell_type": "markdown",
      "metadata": {
        "id": "bVMwNyExqHgH"
      },
      "source": [
        "Write a program the prompts the user for their income and caclualtes the tax payable.\n",
        "\n",
        "[Resident tax rates 2021–22\n",
        "Taxable income](https://www.ato.gov.au/rates/individual-income-tax-rates/)\n",
        "\n",
        "Income            | Tax on this income \n",
        "------------------|----------------------\n",
        "0 – \\$18,200       | Nil\n",
        "\\$18,201 – \\$45,000 | 19 cents for each \\$1 over \\$18,200\n",
        "\\$45,001 – \\$120,000 | \\$5,092 plus 32.5 cents for each \\$1 over \\$45,000\n",
        "\\$120,001 – \\$180,000 |  \\$29,467 plus 37 cents for each \\$1 over \\$120,000\n",
        "\\$180,001 and over | \\$51,667 plus 45 cents for each \\$1 over \\$180,000\n",
        "\n"
      ]
    },
    {
      "cell_type": "markdown",
      "metadata": {
        "id": "6TcupXRkOP88"
      },
      "source": [
        "Steps\n",
        "\n",
        "1. Get the income\n",
        "2. Calculte the tax payable"
      ]
    },
    {
      "cell_type": "code",
      "metadata": {
        "id": "4aY8OIa8OiH9"
      },
      "source": [
        "def get_income():\n",
        "  '''\n",
        "  This function will prompt a user for the income\n",
        "  and return the value\n",
        "  '''\n",
        "  income = int(input('What is your income for the year? '))\n",
        "  print('Your income is:', income)\n",
        "  return income"
      ],
      "execution_count": 1,
      "outputs": []
    },
    {
      "cell_type": "code",
      "metadata": {
        "id": "kOozFkTLPXbn"
      },
      "source": [
        "def calculate_tax(income):\n",
        "  if income <= 18200:\n",
        "    tax_payable = 0\n",
        "  elif 18200 < income <= 45000:\n",
        "    tax_payable = (income - 18200) * 0.19\n",
        "  elif 45000 < income <= 120000:\n",
        "    tax_payable = 5092 + 0.325 * (income - 45000)\n",
        "  elif 120000 < income <= 180000:\n",
        "    tax_payable = 29467 + 0.37 * (income - 120000)\n",
        "  elif income > 180000:\n",
        "    tax_payable = 51667 + 0.45 * (income - 180000)\n",
        "  \n",
        "  return tax_payable"
      ],
      "execution_count": 6,
      "outputs": []
    },
    {
      "cell_type": "code",
      "metadata": {
        "colab": {
          "base_uri": "https://localhost:8080/"
        },
        "id": "KBKqM1grSK2y",
        "outputId": "cd83fc60-de1c-4e19-ba42-3926b7d1977b"
      },
      "source": [
        "# Step 1\n",
        "income = get_income()\n",
        "\n",
        "# Step 2\n",
        "tax = calculate_tax(income)\n",
        "\n",
        "print('Your tax payable is:', tax)"
      ],
      "execution_count": 13,
      "outputs": [
        {
          "output_type": "stream",
          "name": "stdout",
          "text": [
            "What is your income for the year? 55678\n",
            "Your income is: 55678\n",
            "Your tax payable is: 8562.35\n",
            "0.15378336147131721\n"
          ]
        }
      ]
    },
    {
      "cell_type": "code",
      "metadata": {
        "id": "wfD1MRkFT4ks"
      },
      "source": [
        ""
      ],
      "execution_count": null,
      "outputs": []
    }
  ]
}