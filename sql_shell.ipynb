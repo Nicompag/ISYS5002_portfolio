{
  "nbformat": 4,
  "nbformat_minor": 0,
  "metadata": {
    "colab": {
      "name": "sql_shell.ipynb",
      "provenance": [],
      "include_colab_link": true
    },
    "kernelspec": {
      "name": "python3",
      "display_name": "Python 3"
    },
    "language_info": {
      "name": "python"
    }
  },
  "cells": [
    {
      "cell_type": "markdown",
      "metadata": {
        "id": "view-in-github",
        "colab_type": "text"
      },
      "source": [
        "<a href=\"https://colab.research.google.com/github/Nicompag/ISYS5002_portfolio/blob/main/sql_shell.ipynb\" target=\"_parent\"><img src=\"https://colab.research.google.com/assets/colab-badge.svg\" alt=\"Open In Colab\"/></a>"
      ]
    },
    {
      "cell_type": "markdown",
      "metadata": {
        "id": "mbsVgk4dW_nz"
      },
      "source": [
        "#SQL via Python\n",
        "\n",
        "In this notebook we discuss all the CRUD operations on a SQLite 3 database in Python.\n",
        "\n",
        "We assume some basic understanding ot SQL\n",
        "\n",
        "## Import the library"
      ]
    },
    {
      "cell_type": "code",
      "metadata": {
        "id": "LPimUgLJW-zI"
      },
      "source": [
        "import sqlite3"
      ],
      "execution_count": 6,
      "outputs": []
    },
    {
      "cell_type": "markdown",
      "metadata": {
        "id": "Hw8dIXJ-XmD3"
      },
      "source": [
        "## Create a connection\n",
        "\n",
        "We use the connect method and pass the name of the database"
      ]
    },
    {
      "cell_type": "code",
      "metadata": {
        "id": "mrad4SnyXxgQ"
      },
      "source": [
        "conn = sqlite3.connect(\"mytest.db\")"
      ],
      "execution_count": 7,
      "outputs": []
    },
    {
      "cell_type": "markdown",
      "metadata": {
        "id": "mejA7Nv4XyPH"
      },
      "source": [
        "## Create a cursor object\n",
        "\n",
        "A cursor acts a middleware between a connection and SQL query"
      ]
    },
    {
      "cell_type": "code",
      "metadata": {
        "id": "ZTlVz29LYR9b"
      },
      "source": [
        "cursor = conn.cursor()"
      ],
      "execution_count": 8,
      "outputs": []
    },
    {
      "cell_type": "markdown",
      "metadata": {
        "id": "Sn6PJmYtYdWr"
      },
      "source": [
        "# Create Table\n",
        "\n",
        "Use a common 'pattern'\n",
        "\n",
        "1. Create a SQL command as a string\n",
        "2. User cursor to execture the command\n",
        "3. If needed fetch the results"
      ]
    },
    {
      "cell_type": "code",
      "metadata": {
        "id": "SIGT5zH0Ykd4"
      },
      "source": [
        "query = \"\"\"\n",
        "  CREATE TABLE USER (\n",
        "            id INTEGER NOT NULL PRIMARY KEY AUTOINCREMENT,\n",
        "            name TEXT,\n",
        "            age INTEGER\n",
        "        );\n",
        "\"\"\""
      ],
      "execution_count": 9,
      "outputs": []
    },
    {
      "cell_type": "code",
      "metadata": {
        "id": "xuIEUIhRR-GK",
        "colab": {
          "base_uri": "https://localhost:8080/"
        },
        "outputId": "83a463c2-29f0-46ef-922a-46bdcf021585"
      },
      "source": [
        "cursor.execute(query)"
      ],
      "execution_count": 10,
      "outputs": [
        {
          "output_type": "execute_result",
          "data": {
            "text/plain": [
              "<sqlite3.Cursor at 0x7f6f9012bdc0>"
            ]
          },
          "metadata": {},
          "execution_count": 10
        }
      ]
    },
    {
      "cell_type": "markdown",
      "metadata": {
        "id": "pn3Pj3hlYsBK"
      },
      "source": [
        "# Insert into Table"
      ]
    },
    {
      "cell_type": "code",
      "metadata": {
        "id": "sDDF56NqYy1D"
      },
      "source": [
        "query = \"INSERT INTO user VALUES (0, 'Michael', 21);\""
      ],
      "execution_count": 20,
      "outputs": []
    },
    {
      "cell_type": "code",
      "metadata": {
        "id": "dKkHLZe8TF_L",
        "colab": {
          "base_uri": "https://localhost:8080/"
        },
        "outputId": "cf50b471-3089-44bd-ee2f-12a62dfb8328"
      },
      "source": [
        "cursor.execute(query)"
      ],
      "execution_count": 21,
      "outputs": [
        {
          "output_type": "execute_result",
          "data": {
            "text/plain": [
              "<sqlite3.Cursor at 0x7f6f9012bdc0>"
            ]
          },
          "metadata": {},
          "execution_count": 21
        }
      ]
    },
    {
      "cell_type": "markdown",
      "metadata": {
        "id": "0q9-ZbAHY30U"
      },
      "source": [
        "## Fetching Data"
      ]
    },
    {
      "cell_type": "code",
      "metadata": {
        "id": "6fft_Fo-Y6TM",
        "colab": {
          "base_uri": "https://localhost:8080/"
        },
        "outputId": "b0d9ea9d-da61-493e-bf53-80f92c363468"
      },
      "source": [
        "query = \"SELECT * FROM user;\"\n",
        "\n",
        "cursor.execute(query)"
      ],
      "execution_count": 13,
      "outputs": [
        {
          "output_type": "execute_result",
          "data": {
            "text/plain": [
              "<sqlite3.Cursor at 0x7f6f9012bdc0>"
            ]
          },
          "metadata": {},
          "execution_count": 13
        }
      ]
    },
    {
      "cell_type": "code",
      "metadata": {
        "id": "nEl6VMWoTfZ-",
        "colab": {
          "base_uri": "https://localhost:8080/"
        },
        "outputId": "5bd82575-939e-4b12-d294-b20bc0f12a56"
      },
      "source": [
        "result = cursor.fetchall()\n",
        "result[0]"
      ],
      "execution_count": 14,
      "outputs": [
        {
          "output_type": "execute_result",
          "data": {
            "text/plain": [
              "(1, 'Michael', 21)"
            ]
          },
          "metadata": {},
          "execution_count": 14
        }
      ]
    },
    {
      "cell_type": "markdown",
      "metadata": {
        "id": "CMhqzLZbY8r-"
      },
      "source": [
        "## Updating Data"
      ]
    },
    {
      "cell_type": "code",
      "metadata": {
        "id": "ZYniV-zoTd-z"
      },
      "source": [
        "query = \"\"\"\n",
        "UPDATE user SET name = \"Batman\" WHERE name = 'Michael';\n",
        "\"\"\""
      ],
      "execution_count": 15,
      "outputs": []
    },
    {
      "cell_type": "code",
      "metadata": {
        "id": "ojzfQW6vY_uX",
        "colab": {
          "base_uri": "https://localhost:8080/"
        },
        "outputId": "e77ee0a5-56a0-4027-a6cc-cc7f4dd0a4ef"
      },
      "source": [
        "conn.execute(query)"
      ],
      "execution_count": 16,
      "outputs": [
        {
          "output_type": "execute_result",
          "data": {
            "text/plain": [
              "<sqlite3.Cursor at 0x7f6f90142d50>"
            ]
          },
          "metadata": {},
          "execution_count": 16
        }
      ]
    },
    {
      "cell_type": "code",
      "metadata": {
        "id": "x0TCc-nsUi07",
        "colab": {
          "base_uri": "https://localhost:8080/"
        },
        "outputId": "7ae3cb3d-aa4a-458a-fa2f-35f1e3da47a1"
      },
      "source": [
        "query = \"SELECT * FROM user;\"\n",
        "cursor.execute(query)\n",
        "result = cursor.fetchall()\n",
        "result"
      ],
      "execution_count": 22,
      "outputs": [
        {
          "output_type": "execute_result",
          "data": {
            "text/plain": [
              "[(0, 'Michael', 21), (1, 'Batman', 21)]"
            ]
          },
          "metadata": {},
          "execution_count": 22
        }
      ]
    },
    {
      "cell_type": "markdown",
      "metadata": {
        "id": "-tk5M9E9ZBPO"
      },
      "source": [
        "## Delete Data"
      ]
    },
    {
      "cell_type": "code",
      "metadata": {
        "id": "VI52gWODZCsF",
        "colab": {
          "base_uri": "https://localhost:8080/"
        },
        "outputId": "54874905-141d-4067-d665-254717093bf4"
      },
      "source": [
        "query = \"\"\"\n",
        "DELETE FROM user WHERE name = 'Batman';\n",
        "\"\"\"\n",
        "conn.execute(query)\n",
        "query = \"SELECT * FROM user;\"\n",
        "cursor.execute(query)\n",
        "result = cursor.fetchall()\n",
        "result"
      ],
      "execution_count": 23,
      "outputs": [
        {
          "output_type": "execute_result",
          "data": {
            "text/plain": [
              "[(0, 'Michael', 21)]"
            ]
          },
          "metadata": {},
          "execution_count": 23
        }
      ]
    },
    {
      "cell_type": "markdown",
      "metadata": {
        "id": "ZqFcuamRZJ9W"
      },
      "source": [
        "## View Schema"
      ]
    },
    {
      "cell_type": "code",
      "metadata": {
        "id": "1Ovfl-_OZOPk",
        "colab": {
          "base_uri": "https://localhost:8080/"
        },
        "outputId": "ea45f9dc-c75f-4293-e966-5f23eac7bc3b"
      },
      "source": [
        "query = \"SELECT name FROM sqlite_master WHERE type = 'table';\"\n",
        "cursor.execute(query)\n",
        "result = cursor.fetchall()\n",
        "result"
      ],
      "execution_count": 24,
      "outputs": [
        {
          "output_type": "execute_result",
          "data": {
            "text/plain": [
              "[('USER',), ('sqlite_sequence',)]"
            ]
          },
          "metadata": {},
          "execution_count": 24
        }
      ]
    },
    {
      "cell_type": "code",
      "metadata": {
        "id": "B6-fiF01VuIi",
        "colab": {
          "base_uri": "https://localhost:8080/"
        },
        "outputId": "d412cf99-4b1c-4b2e-fda8-0eda6ed3b45b"
      },
      "source": [
        "def get_tables(cursor):\n",
        "  query = \"SELECT name FROM sqlite_master WHERE type = 'table';\"\n",
        "  cursor.execute(query)\n",
        "  result = cursor.fetchall()\n",
        "\n",
        "  tables = []\n",
        "  for item in result:\n",
        "    tables.append(item[0])\n",
        "\n",
        "  return(tables)\n",
        "\n",
        "get_tables(cursor)"
      ],
      "execution_count": 25,
      "outputs": [
        {
          "output_type": "execute_result",
          "data": {
            "text/plain": [
              "['USER', 'sqlite_sequence']"
            ]
          },
          "metadata": {},
          "execution_count": 25
        }
      ]
    },
    {
      "cell_type": "code",
      "metadata": {
        "id": "4A69GZERWdnh",
        "colab": {
          "base_uri": "https://localhost:8080/"
        },
        "outputId": "b10e7750-2f1a-4ac4-b4ec-479e1faa001b"
      },
      "source": [
        "for table in get_tables(cursor):\n",
        "  cursor.execute(\"PRAGMA table_info('%s')\" % table)\n",
        "  result = cursor.fetchall()\n",
        "  print(table + \":\" + str(result) + '\\n')"
      ],
      "execution_count": 26,
      "outputs": [
        {
          "output_type": "stream",
          "name": "stdout",
          "text": [
            "USER:[(0, 'id', 'INTEGER', 1, None, 1), (1, 'name', 'TEXT', 0, None, 0), (2, 'age', 'INTEGER', 0, None, 0)]\n",
            "\n",
            "sqlite_sequence:[(0, 'name', '', 0, None, 0), (1, 'seq', '', 0, None, 0)]\n",
            "\n"
          ]
        }
      ]
    },
    {
      "cell_type": "markdown",
      "metadata": {
        "id": "-ldwT9WyZE-2"
      },
      "source": [
        "## Delete Table"
      ]
    },
    {
      "cell_type": "code",
      "metadata": {
        "id": "cyFWke0AZHI-"
      },
      "source": [
        ""
      ],
      "execution_count": null,
      "outputs": []
    }
  ]
}