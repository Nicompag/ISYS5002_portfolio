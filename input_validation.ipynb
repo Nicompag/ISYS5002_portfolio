{
  "nbformat": 4,
  "nbformat_minor": 5,
  "metadata": {
    "kernelspec": {
      "display_name": "Python 3 (ipykernel)",
      "language": "python",
      "name": "python3"
    },
    "language_info": {
      "codemirror_mode": {
        "name": "ipython",
        "version": 3
      },
      "file_extension": ".py",
      "mimetype": "text/x-python",
      "name": "python",
      "nbconvert_exporter": "python",
      "pygments_lexer": "ipython3",
      "version": "3.9.6"
    },
    "colab": {
      "name": "input_validation.ipynb",
      "provenance": [],
      "include_colab_link": true
    }
  },
  "cells": [
    {
      "cell_type": "markdown",
      "metadata": {
        "id": "view-in-github",
        "colab_type": "text"
      },
      "source": [
        "<a href=\"https://colab.research.google.com/github/Nicompag/ISYS5002_portfolio/blob/main/input_validation.ipynb\" target=\"_parent\"><img src=\"https://colab.research.google.com/assets/colab-badge.svg\" alt=\"Open In Colab\"/></a>"
      ]
    },
    {
      "cell_type": "markdown",
      "metadata": {
        "id": "b5835b0c"
      },
      "source": [
        "# Input Validation\n",
        "\n",
        "Input validation code verifies that user supplied data, such as text from the input() function, is formatted appropriately.\n",
        "\n",
        "* try/except\n",
        "* isdigit()\n",
        "* pyinputplus\n",
        "\n",
        "## try/except"
      ],
      "id": "b5835b0c"
    },
    {
      "cell_type": "code",
      "metadata": {
        "colab": {
          "base_uri": "https://localhost:8080/"
        },
        "id": "695b1f5f",
        "outputId": "93754751-9e6a-4e4d-c7ea-d8b8e7eb591b"
      },
      "source": [
        "#Reference: http://www.easypythondocs.com/validation.html\n",
        "\n",
        "while True: \n",
        "  try:\n",
        "    age = int(input('How old are you? '))\n",
        "    break\n",
        "  except ValueError:\n",
        "    print('Please enter a whole number')\n",
        "     \n",
        "print('Your age is: ' + str(age))"
      ],
      "id": "695b1f5f",
      "execution_count": null,
      "outputs": [
        {
          "output_type": "stream",
          "text": [
            "How old are you? 23.5\n",
            "Please enter a whole number\n",
            "How old are you? 24\n",
            "Your age is: 24\n"
          ],
          "name": "stdout"
        }
      ]
    },
    {
      "cell_type": "code",
      "metadata": {
        "id": "93peXqX4RWhv"
      },
      "source": [
        "def get_integer(prombt):\n",
        "  '''This function will prompt the user for a number and then convert that string\n",
        "  to an integer and return the value'''\n",
        "\n",
        "  #Reference: http://www.easypythondocs.com/validation.html\n",
        "\n",
        "  while True: \n",
        "    try:\n",
        "      number = int(input(prombt))\n",
        "      break\n",
        "    except ValueError:\n",
        "      print('Please enter a whole number')\n",
        "\n",
        "  return number"
      ],
      "id": "93peXqX4RWhv",
      "execution_count": null,
      "outputs": []
    },
    {
      "cell_type": "code",
      "metadata": {
        "colab": {
          "base_uri": "https://localhost:8080/"
        },
        "id": "g-qTLvJbRzNA",
        "outputId": "1c91436a-7cfa-4826-e406-275b3ab539ed"
      },
      "source": [
        "age = get_integer('How old are you? ')\n",
        "print('Your age is: ' + str(age))"
      ],
      "id": "g-qTLvJbRzNA",
      "execution_count": null,
      "outputs": [
        {
          "output_type": "stream",
          "text": [
            "How old are you? 22.2\n",
            "Please enter a whole number\n",
            "How old are you? 21\n",
            "Your age is: 21\n"
          ],
          "name": "stdout"
        }
      ]
    },
    {
      "cell_type": "markdown",
      "metadata": {
        "id": "acc7252b"
      },
      "source": [
        "## isdigit()"
      ],
      "id": "acc7252b"
    },
    {
      "cell_type": "code",
      "metadata": {
        "colab": {
          "base_uri": "https://localhost:8080/"
        },
        "id": "5f98c241",
        "outputId": "9cf86645-7cd8-4658-a5a5-abc6072241ab"
      },
      "source": [
        "#Reference: http://www.easypythondocs.com/validation.html\n",
        "\n",
        "while True:\n",
        "  age = input('How old are you? ') \n",
        "  if age.isdigit():\n",
        "    age = int(age)\n",
        "    break\n",
        "  else:\n",
        "    print('You must enter a valid number') \n",
        "    \n",
        "print('You are ' + str(age))"
      ],
      "id": "5f98c241",
      "execution_count": null,
      "outputs": [
        {
          "output_type": "stream",
          "text": [
            "How old are you? 2one\n",
            "You must enter a valid number\n",
            "How old are you? 21\n",
            "You are 21\n"
          ],
          "name": "stdout"
        }
      ]
    },
    {
      "cell_type": "markdown",
      "metadata": {
        "id": "18c00dc3"
      },
      "source": [
        "## Module: pyinputs"
      ],
      "id": "18c00dc3"
    },
    {
      "cell_type": "code",
      "metadata": {
        "colab": {
          "base_uri": "https://localhost:8080/"
        },
        "id": "dfe1740b",
        "outputId": "c9516418-a35b-41ca-b05b-ed7ddcc82358"
      },
      "source": [
        "!pip install PyInputPlus"
      ],
      "id": "dfe1740b",
      "execution_count": null,
      "outputs": [
        {
          "output_type": "stream",
          "text": [
            "Collecting PyInputPlus\n",
            "  Downloading PyInputPlus-0.2.12.tar.gz (20 kB)\n",
            "  Installing build dependencies ... \u001b[?25l\u001b[?25hdone\n",
            "  Getting requirements to build wheel ... \u001b[?25l\u001b[?25hdone\n",
            "    Preparing wheel metadata ... \u001b[?25l\u001b[?25hdone\n",
            "Collecting pysimplevalidate>=0.2.7\n",
            "  Downloading PySimpleValidate-0.2.12.tar.gz (22 kB)\n",
            "  Installing build dependencies ... \u001b[?25l\u001b[?25hdone\n",
            "  Getting requirements to build wheel ... \u001b[?25l\u001b[?25hdone\n",
            "    Preparing wheel metadata ... \u001b[?25l\u001b[?25hdone\n",
            "Collecting stdiomask>=0.0.3\n",
            "  Downloading stdiomask-0.0.6.tar.gz (3.6 kB)\n",
            "  Installing build dependencies ... \u001b[?25l\u001b[?25hdone\n",
            "  Getting requirements to build wheel ... \u001b[?25l\u001b[?25hdone\n",
            "    Preparing wheel metadata ... \u001b[?25l\u001b[?25hdone\n",
            "Building wheels for collected packages: PyInputPlus, pysimplevalidate, stdiomask\n",
            "  Building wheel for PyInputPlus (PEP 517) ... \u001b[?25l\u001b[?25hdone\n",
            "  Created wheel for PyInputPlus: filename=PyInputPlus-0.2.12-py3-none-any.whl size=11315 sha256=c41abb998bf7756a6f5df0f44837658f03a535cd3dbb88cf4574e4da3f46f806\n",
            "  Stored in directory: /root/.cache/pip/wheels/e7/33/73/719f8f1bd984d39face880fd22f6c5ef1b85f726e84c687094\n",
            "  Building wheel for pysimplevalidate (PEP 517) ... \u001b[?25l\u001b[?25hdone\n",
            "  Created wheel for pysimplevalidate: filename=PySimpleValidate-0.2.12-py3-none-any.whl size=16191 sha256=2688c328662e2ca4eacb0f313babdfdd8a2b44514f6bd7a43d8ebdbf95f5ac0a\n",
            "  Stored in directory: /root/.cache/pip/wheels/5a/8b/6c/2925d22b93860bdc9b8ce02c3d2cf79336606f7469cef66065\n",
            "  Building wheel for stdiomask (PEP 517) ... \u001b[?25l\u001b[?25hdone\n",
            "  Created wheel for stdiomask: filename=stdiomask-0.0.6-py3-none-any.whl size=3320 sha256=c95d53d51c8076e62556059931693a4c16a72e74ea454e503ac2e1a301bfba1b\n",
            "  Stored in directory: /root/.cache/pip/wheels/cf/13/89/64d0d3b167759523f4c1e68f883bbc30e7bfa27050edeb418e\n",
            "Successfully built PyInputPlus pysimplevalidate stdiomask\n",
            "Installing collected packages: stdiomask, pysimplevalidate, PyInputPlus\n",
            "Successfully installed PyInputPlus-0.2.12 pysimplevalidate-0.2.12 stdiomask-0.0.6\n"
          ],
          "name": "stdout"
        }
      ]
    },
    {
      "cell_type": "code",
      "metadata": {
        "colab": {
          "base_uri": "https://localhost:8080/"
        },
        "id": "-zZ1k3mOWT6R",
        "outputId": "e1c771e9-0ff3-40b6-ea3b-18f49eb189e8"
      },
      "source": [
        "import pyinputplus as pyip\n",
        "age = pyip.inputNum('How old are you?')\n",
        "print('You are ' + str(age))"
      ],
      "id": "-zZ1k3mOWT6R",
      "execution_count": null,
      "outputs": [
        {
          "output_type": "stream",
          "text": [
            "How old are you?2.3.21\n",
            "'2.3.21' is not a number.\n",
            "How old are you?nico\n",
            "'nico' is not a number.\n",
            "How old are you?21\n",
            "You are 21\n"
          ],
          "name": "stdout"
        }
      ]
    },
    {
      "cell_type": "code",
      "metadata": {
        "colab": {
          "base_uri": "https://localhost:8080/"
        },
        "id": "7UprctizWFyE",
        "outputId": "13b082ae-a401-4f62-c4fd-d731341395ca"
      },
      "source": [
        "help(pyip.inputNum)"
      ],
      "id": "7UprctizWFyE",
      "execution_count": null,
      "outputs": [
        {
          "output_type": "stream",
          "text": [
            "Help on function inputNum in module pyinputplus:\n",
            "\n",
            "inputNum(prompt='', default=None, blank=False, timeout=None, limit=None, strip=None, allowRegexes=None, blockRegexes=None, applyFunc=None, postValidateApplyFunc=None, min=None, max=None, greaterThan=None, lessThan=None)\n",
            "    Prompts the user to enter a number, either an integer or a floating-point\n",
            "    value. Returns an int or float value (depending on if the user entered a\n",
            "    decimal in their input.)\n",
            "    \n",
            "    Run ``help(pyinputplus.parameters)`` for an explanation of the common parameters.\n",
            "    \n",
            "    * ``min`` (None, float): If not ``None``, the minimum accepted numeric value, including the minimum argument.\n",
            "    * ``max`` (None, float): If not ``None``, the maximum accepted numeric value, including the maximum argument.\n",
            "    * ``greaterThan`` (None, float): If not ``None``, the minimum accepted numeric value, not including the ``greaterThan`` argument.\n",
            "    * ``lessThan`` (None, float): If not ``None``, the maximum accepted numeric value, not including the ``lessThan`` argument.\n",
            "    \n",
            "    >>> import pyinputplus as pyip\n",
            "    >>> response = pyip.inputNum()\n",
            "    forty two\n",
            "    'forty two' is not a number.\n",
            "    42\n",
            "    >>> response\n",
            "    42\n",
            "    >>> response = pyip.inputNum()\n",
            "    9\n",
            "    >>> type(response)\n",
            "    <class 'int'>\n",
            "    >>> response = pyip.inputNum()\n",
            "    9.0\n",
            "    >>> type(response)\n",
            "    <class 'float'>\n",
            "    >>> response = pyip.inputNum(min=4)\n",
            "    3\n",
            "    Number must be at minimum 4.\n",
            "    4\n",
            "    >>> response\n",
            "    4\n",
            "    >>> response = pyip.inputNum(greaterThan=4)\n",
            "    4\n",
            "    Number must be greater than 4.\n",
            "    4.1\n",
            "    >>> response\n",
            "    4.1\n",
            "    >>> response = pyip.inputNum(limit=2)\n",
            "    dog\n",
            "    'dog' is not a number.\n",
            "    cat\n",
            "    'cat' is not a number.\n",
            "    Traceback (most recent call last):\n",
            "        ...\n",
            "    pyinputplus.RetryLimitException\n",
            "\n"
          ],
          "name": "stdout"
        }
      ]
    }
  ]
}